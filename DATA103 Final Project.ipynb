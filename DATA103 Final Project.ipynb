{
 "cells": [
  {
   "cell_type": "markdown",
   "id": "9dea0575",
   "metadata": {},
   "source": [
    "<b>\n",
    "An Evaluation of Different Machine Learning Algorithms for <br>\n",
    "Predicting Academic Success Based on Given Data <br>\n",
    "</b>\n",
    "<br>\n",
    "<b>\n",
    "Mangawang, Felix <br>\n",
    "Ong, Andrei <br>\n",
    "Sillona, John <br>\n",
    "Valero, Nigel <br>\n",
    "</b>"
   ]
  },
  {
   "cell_type": "markdown",
   "id": "397dff59",
   "metadata": {},
   "source": [
    "<br>\n",
    "<b> Introduction of the Problem/Task </b>\n",
    "\n",
    "A human mind has limitations in analyzing complex data. To overcome the limitations, technological advances of humanity have enabled mankind to automate certain processes and calculations using computers as tools. To effectively and efficiently perform its tasks, a computer must undergo machine learning. Machine Learning allows computers to learn and train from algorithms to eventually execute tasks without direct instructions or programming from their users. As a result, specific tasks such as classifying, predicting, and identifying relations and patterns are completed by computers developed through machine learning (IBM, 2021). <br>\n",
    "<br>\n",
    "Machine learning begins with the chosen machine learning algorithm. The algorithms are the models or methods for the computer to produce its desired output data from a given input data to meet its objective. There are various types of machine learning algorithms to choose from, depending on the task assigned to the computer. For this study, logistic regression, random forest, and support vector machine are chosen to perform predictions on a supplied dataset (Hashemi-Pour & Wigmore, 2024). <br>\n",
    "<br>\n",
    "As students, academic success is influenced by numerous factors like choices, family background, and lifestyle (Communications Team, 2022). With these multiple factors affecting one's performance in school, it sparked an interest in testing machine learning algorithms on their accuracy to predict a student's academic success. The objective of the study is to evaluate the three selected machine learning algorithms on their differences in conducting predictions, knowing the unique processes of each algorithm when given the same data, which feature each algorithm places importance on, as well as the learning patterns of each algorithm. By doing an evaluation and comparing how each algorithm works compared to the others, a deeper understanding of their individual strengths, limitations, and insights is expected to be achieved in this study. <br>\n",
    "<br>\n",
    "<b> Dataset used from Kaggle:</b> https://www.kaggle.com/datasets/uciml/student-alcohol-consumption"
   ]
  },
  {
   "cell_type": "markdown",
   "id": "9654eaf9",
   "metadata": {},
   "source": [
    "<b> Required Libraries </b>"
   ]
  },
  {
   "cell_type": "code",
   "execution_count": 19,
   "id": "707b1ba2",
   "metadata": {},
   "outputs": [],
   "source": [
    "import numpy as np\n",
    "import pandas as pd\n",
    "import matplotlib.pyplot as plt\n",
    "import seaborn as sns\n",
    "import plotly.express as px\n",
    "from sklearn.model_selection import train_test_split, KFold, RandomizedSearchCV\n",
    "from sklearn.metrics import classification_report, confusion_matrix\n",
    "from sklearn.ensemble import RandomForestClassifier\n",
    "from sklearn.linear_model import LogisticRegression\n",
    "from sklearn.svm import SVC\n",
    "from sklearn.preprocessing import  StandardScaler\n",
    "from sklearn.feature_selection import f_classif"
   ]
  },
  {
   "cell_type": "markdown",
   "id": "fc755244",
   "metadata": {},
   "source": [
    "<b>Dataset</b>"
   ]
  },
  {
   "cell_type": "markdown",
   "id": "210cdd5f",
   "metadata": {},
   "source": [
    "The dataset we have chosen is data of students from Math (mat)and Portuguese courses (por) which was merged to obtain the collective data of students from both courses. The code snippet below is translated from the original R code that was provided in the dataset (student-merge.R) The reason we decided to use the merged dataset was that we felt that it would capture the variety of the students' features from the 2 courses.\n",
    "\n",
    "\n"
   ]
  },
  {
   "cell_type": "code",
   "execution_count": 20,
   "id": "d21dbe04",
   "metadata": {},
   "outputs": [
    {
     "name": "stdout",
     "output_type": "stream",
     "text": [
      "382\n",
      "    school sex  age address  ... absences_por G1_por  G2_por  G3_por\n",
      "0       GP   F   18       U  ...            4      0      11      11\n",
      "1       GP   F   17       U  ...            2      9      11      11\n",
      "2       GP   F   15       U  ...            6     12      13      12\n",
      "3       GP   F   15       U  ...            0     14      14      14\n",
      "4       GP   F   16       U  ...            0     11      13      13\n",
      "..     ...  ..  ...     ...  ...          ...    ...     ...     ...\n",
      "377     MS   F   18       U  ...            4     15      15      16\n",
      "378     MS   F   18       U  ...            3      7       8       7\n",
      "379     MS   F   18       U  ...            6     11      12       9\n",
      "380     MS   M   17       U  ...            6     10      10      10\n",
      "381     MS   M   18       R  ...            4     10      11      11\n",
      "\n",
      "[382 rows x 53 columns]\n"
     ]
    }
   ],
   "source": [
    "d1 = pd.read_csv(\"student-mat.csv\", sep=\",\")\n",
    "d2 = pd.read_csv(\"student-por.csv\", sep=\",\")\n",
    "\n",
    "merge_columns = [\"school\", \"sex\", \"age\", \"address\", \"famsize\", \"Pstatus\",\n",
    "                 \"Medu\", \"Fedu\", \"Mjob\", \"Fjob\", \"reason\", \"nursery\", \"internet\"]\n",
    "\n",
    "d3 = pd.merge(d1, d2, on=merge_columns, suffixes=('_mat', '_por'))\n",
    "print(len(d3))\n",
    "print(d3)"
   ]
  },
  {
   "cell_type": "markdown",
   "id": "e5667be0",
   "metadata": {},
   "source": [
    "The Features we believe would have an impact would be the following: <br>\n",
    "\n",
    "Failures - number of past class failures (numeric: if n >= 3, turns into 4; else n=n) <br>\n",
    "Studytime - weekly study time (numeric: 1 = <2 hours, 2 = 2 to 5 hours, 3 = 5 to 10 hours, or 4 = >10 hours) <br>\n",
    "Absences - number of school absences (numeric: from 0 to 93) <br>\n",
    "Dalc - workday alcohol consumption (numeric: from 1 - very low to 5 - very high) <br>\n",
    "Walc - weekend alcohol consumption (numeric: from 1 - very low to 5 - very high) <br>\n",
    "Goout - going out with friends (numeric: from 1 - very low to 5 - very high) <br>\n",
    "higher\t- wants to take higher education (binary: yes or no) <br>\n",
    "Famsup - family educational support (binary: yes or no) <br>\n",
    "\n",
    "After initial testing we decided to include 3 more features that we think would have an impact on the student's grades: <br>\n",
    "\n",
    "romantic - with a romantic relationship (binary: yes or no) <br>\n",
    "famrel - quality of family relationships (numeric: from 1 - very bad to 5 - excellent) <br>\n",
    "schoolsup - extra educational support (binary: yes or no) <br>\n",
    "\n",
    "\n",
    "Finally our Target Variable is:\n",
    "\n",
    "G3 - final grade from 1-20, this will be converted into a categorical variable with 1-10 being fail, and 11-20 being pass. \n"
   ]
  },
  {
   "cell_type": "markdown",
   "id": "5a13bac5",
   "metadata": {},
   "source": [
    "<b>Exploratory Analysis and Data Preprocessing</b>\n",
    "\n",
    "The group first set the G3 and other features into a numbered and binary format from the previous range of number(for G3) and text value(yes/no). The dataframe was then checked for any NULL value. The data was then split into features and label and plots were \n",
    "included to show the distribution of grades, correlation between the features and passing, and the distribution of pass/fails among the features. Finally, the features were then scaled to ensure that there is minimal bias "
   ]
  },
  {
   "cell_type": "code",
   "execution_count": 21,
   "id": "41f72270",
   "metadata": {},
   "outputs": [
    {
     "name": "stdout",
     "output_type": "stream",
     "text": [
      "Dalc_mat         0\n",
      "Walc_mat         0\n",
      "absences_mat     0\n",
      "studytime_mat    0\n",
      "goout_mat        0\n",
      "higher_mat       0\n",
      "famsup_mat       0\n",
      "romantic_mat     0\n",
      "failures_mat     0\n",
      "famrel_mat       0\n",
      "schoolsup_mat    0\n",
      "pass             0\n",
      "dtype: int64\n"
     ]
    }
   ],
   "source": [
    "d3['G3'] = d3[['G3_mat', 'G3_por']].mean(axis=1).round()\n",
    "d3['pass'] = d3['G3'].apply(lambda x: 1 if x >= 11 else 0)\n",
    "\n",
    "features = ['Dalc_mat', 'Walc_mat', 'absences_mat', 'studytime_mat', 'goout_mat', 'higher_mat', 'famsup_mat', 'romantic_mat', 'failures_mat', 'famrel_mat', 'schoolsup_mat']\n",
    "df = d3[features + ['pass']].copy()\n",
    "df['higher_mat'] = df['higher_mat'].map({'yes': 1, 'no': 0})\n",
    "df['famsup_mat'] = df['famsup_mat'].map({'yes': 1, 'no': 0})\n",
    "df['romantic_mat'] = df['romantic_mat'].map({'yes': 1, 'no': 0})\n",
    "df['schoolsup_mat'] = df['schoolsup_mat'].map({'yes': 1, 'no': 0})\n",
    "\n",
    "print(df.isnull().sum())\n",
    "\n",
    "X = df.drop('pass', axis=1)\n",
    "y = df['pass']\n"
   ]
  },
  {
   "cell_type": "markdown",
   "id": "31850c1b",
   "metadata": {},
   "source": [
    "We can see that the general trend for students' final grade is above average."
   ]
  },
  {
   "cell_type": "code",
   "execution_count": 22,
   "id": "f4d81e26",
   "metadata": {},
   "outputs": [
    {
     "data": {
      "image/png": "[encoded data removed]",
      "text/plain": [
       "<Figure size 1000x700 with 1 Axes>"
      ]
     },
     "metadata": {},
     "output_type": "display_data"
    }
   ],
   "source": [
    "# Exploratory Data Analysis\n",
    "# Histogram of Final Grades\n",
    "plt.figure(figsize=(10, 7))\n",
    "sns.histplot(d3['G3'], bins=20)\n",
    "plt.title(\"Distribution of Final Grades\")\n",
    "plt.xlabel(\"Final Grade (G3)\")\n",
    "plt.ylabel(\"Frequency\")\n",
    "plt.show()"
   ]
  },
  {
   "cell_type": "markdown",
   "id": "f9cfb58e",
   "metadata": {},
   "source": [
    "Based on our heatmap it would seem that having the desire to obtain a higher eduaction(higher_mat) leads to a higher correlation in passing. Despite only a 0.26 correlation, which implies a low to moderate relationship with the pass feature, we believe that this feature still holds significance due to the fact that its one of the higher correlation in relation to the other features. This led us to determining that although in general a 0.26 correlation  would mean that it has at most a moderate relationship with pass, in this study it is more impactful."
   ]
  },
  {
   "cell_type": "code",
   "execution_count": 23,
   "id": "80fde2b2",
   "metadata": {},
   "outputs": [
    {
     "data": {
      "image/png": "[encoded data removed]",
      "text/plain": [
       "<Figure size 1000x700 with 2 Axes>"
      ]
     },
     "metadata": {},
     "output_type": "display_data"
    }
   ],
   "source": [
    "# Heatmap for correlation\n",
    "plt.figure(figsize=(10, 7))\n",
    "corr = df.corr()\n",
    "sns.heatmap(corr, annot=True, cmap='coolwarm', fmt=\".2f\")\n",
    "plt.title(\"Feature Correlation Heatmap\")\n",
    "plt.show()"
   ]
  },
  {
   "cell_type": "markdown",
   "id": "68e32ab5",
   "metadata": {},
   "source": [
    "Based on our boxplot below, there is a general trend of more fails when one is drinking and more passes when study time is high. There exist other features, however, that doesnt have as clear trend with passing or not like goout_mat where the plot looks exactly the same. This can be attributed to the fact that the effects of that feature, in this example going out, isnt as significant which checks out with our heatmap above. Additionally we have decided to remove the features which only have a binary value to have a cleaner plot"
   ]
  },
  {
   "cell_type": "code",
   "execution_count": 24,
   "id": "c9ed7dd8",
   "metadata": {},
   "outputs": [
    {
     "data": {
      "image/png": "[encoded data removed]",
      "text/plain": [
       "<Figure size 1500x700 with 7 Axes>"
      ]
     },
     "metadata": {},
     "output_type": "display_data"
    }
   ],
   "source": [
    "# Boxplot of features by pass/fail\n",
    "binary_features = ['higher_mat', 'famsup_mat', 'romantic_mat', 'schoolsup_mat']\n",
    "\n",
    "boxplot_feat = [col for col in X.columns if col not in binary_features]\n",
    "\n",
    "plt.figure(figsize=(15, 7))\n",
    "for idx, col in enumerate(boxplot_feat):\n",
    "    plt.subplot(1, len(boxplot_feat), idx + 1)\n",
    "    sns.boxplot(x='pass', y=col, data=df)\n",
    "    plt.title(col)\n",
    "\n",
    "plt.tight_layout()\n",
    "plt.show()"
   ]
  },
  {
   "cell_type": "code",
   "execution_count": 25,
   "id": "646148f4",
   "metadata": {},
   "outputs": [],
   "source": [
    "scaler = StandardScaler()\n",
    "X_scaled = scaler.fit_transform(X)"
   ]
  },
  {
   "cell_type": "markdown",
   "id": "68dde3dd",
   "metadata": {},
   "source": [
    "<b>Model Training</b> <br>\n",
    "We have decided on the 3 algorithms: logistic regression, random forest, and support vector machine, to see how each would respond to our chosen data set. Logistic regression being a linear type model, random forest being an ensemble or \"trees\" type model, and support vector machine being a margin based model, would show how each algorithm would use the data to develop its model. \n"
   ]
  },
  {
   "cell_type": "code",
   "execution_count": 26,
   "id": "911efa52",
   "metadata": {},
   "outputs": [],
   "source": [
    "X_train, X_test, y_train, y_test = train_test_split(X_scaled, y, test_size=0.2, random_state=42, stratify=y)"
   ]
  },
  {
   "cell_type": "markdown",
   "id": "f342df90",
   "metadata": {},
   "source": [
    "Hyperparameter Tuning using Random Search"
   ]
  },
  {
   "cell_type": "markdown",
   "id": "a9627b9c",
   "metadata": {},
   "source": [
    "We decided to use Random search for our hyperparameter tuning to ease up on the training time. For Logistic Regression some combinations arent valid for each solver so they were removed to reduce clutter, you can see the error below for them"
   ]
  },
  {
   "cell_type": "code",
   "execution_count": 27,
   "id": "89fcf68a",
   "metadata": {},
   "outputs": [
    {
     "name": "stdout",
     "output_type": "stream",
     "text": [
      "Best Logistic Regression Parameters: {'solver': 'saga', 'penalty': 'l1', 'max_iter': 100, 'class_weight': 'balanced', 'C': np.float64(0.40370172585965536)}\n"
     ]
    },
    {
     "name": "stderr",
     "output_type": "stream",
     "text": [
      "c:\\Users\\Hunte\\AppData\\Local\\Programs\\Python\\Python313\\Lib\\site-packages\\sklearn\\model_selection\\_validation.py:528: FitFailedWarning:\n",
      "\n",
      "\n",
      "75 fits failed out of a total of 100.\n",
      "The score on these train-test partitions for these parameters will be set to nan.\n",
      "If these failures are not expected, you can try to debug them by setting error_score='raise'.\n",
      "\n",
      "Below are more details about the failures:\n",
      "--------------------------------------------------------------------------------\n",
      "15 fits failed with the following error:\n",
      "Traceback (most recent call last):\n",
      "  File \"c:\\Users\\Hunte\\AppData\\Local\\Programs\\Python\\Python313\\Lib\\site-packages\\sklearn\\model_selection\\_validation.py\", line 866, in _fit_and_score\n",
      "    estimator.fit(X_train, y_train, **fit_params)\n",
      "    ~~~~~~~~~~~~~^^^^^^^^^^^^^^^^^^^^^^^^^^^^^^^^\n",
      "  File \"c:\\Users\\Hunte\\AppData\\Local\\Programs\\Python\\Python313\\Lib\\site-packages\\sklearn\\base.py\", line 1389, in wrapper\n",
      "    return fit_method(estimator, *args, **kwargs)\n",
      "  File \"c:\\Users\\Hunte\\AppData\\Local\\Programs\\Python\\Python313\\Lib\\site-packages\\sklearn\\linear_model\\_logistic.py\", line 1193, in fit\n",
      "    solver = _check_solver(self.solver, self.penalty, self.dual)\n",
      "  File \"c:\\Users\\Hunte\\AppData\\Local\\Programs\\Python\\Python313\\Lib\\site-packages\\sklearn\\linear_model\\_logistic.py\", line 63, in _check_solver\n",
      "    raise ValueError(\n",
      "    ...<2 lines>...\n",
      "    )\n",
      "ValueError: Solver lbfgs supports only 'l2' or None penalties, got elasticnet penalty.\n",
      "\n",
      "--------------------------------------------------------------------------------\n",
      "5 fits failed with the following error:\n",
      "Traceback (most recent call last):\n",
      "  File \"c:\\Users\\Hunte\\AppData\\Local\\Programs\\Python\\Python313\\Lib\\site-packages\\sklearn\\model_selection\\_validation.py\", line 866, in _fit_and_score\n",
      "    estimator.fit(X_train, y_train, **fit_params)\n",
      "    ~~~~~~~~~~~~~^^^^^^^^^^^^^^^^^^^^^^^^^^^^^^^^\n",
      "  File \"c:\\Users\\Hunte\\AppData\\Local\\Programs\\Python\\Python313\\Lib\\site-packages\\sklearn\\base.py\", line 1389, in wrapper\n",
      "    return fit_method(estimator, *args, **kwargs)\n",
      "  File \"c:\\Users\\Hunte\\AppData\\Local\\Programs\\Python\\Python313\\Lib\\site-packages\\sklearn\\linear_model\\_logistic.py\", line 1193, in fit\n",
      "    solver = _check_solver(self.solver, self.penalty, self.dual)\n",
      "  File \"c:\\Users\\Hunte\\AppData\\Local\\Programs\\Python\\Python313\\Lib\\site-packages\\sklearn\\linear_model\\_logistic.py\", line 63, in _check_solver\n",
      "    raise ValueError(\n",
      "    ...<2 lines>...\n",
      "    )\n",
      "ValueError: Solver sag supports only 'l2' or None penalties, got l1 penalty.\n",
      "\n",
      "--------------------------------------------------------------------------------\n",
      "5 fits failed with the following error:\n",
      "Traceback (most recent call last):\n",
      "  File \"c:\\Users\\Hunte\\AppData\\Local\\Programs\\Python\\Python313\\Lib\\site-packages\\sklearn\\model_selection\\_validation.py\", line 866, in _fit_and_score\n",
      "    estimator.fit(X_train, y_train, **fit_params)\n",
      "    ~~~~~~~~~~~~~^^^^^^^^^^^^^^^^^^^^^^^^^^^^^^^^\n",
      "  File \"c:\\Users\\Hunte\\AppData\\Local\\Programs\\Python\\Python313\\Lib\\site-packages\\sklearn\\base.py\", line 1389, in wrapper\n",
      "    return fit_method(estimator, *args, **kwargs)\n",
      "  File \"c:\\Users\\Hunte\\AppData\\Local\\Programs\\Python\\Python313\\Lib\\site-packages\\sklearn\\linear_model\\_logistic.py\", line 1193, in fit\n",
      "    solver = _check_solver(self.solver, self.penalty, self.dual)\n",
      "  File \"c:\\Users\\Hunte\\AppData\\Local\\Programs\\Python\\Python313\\Lib\\site-packages\\sklearn\\linear_model\\_logistic.py\", line 63, in _check_solver\n",
      "    raise ValueError(\n",
      "    ...<2 lines>...\n",
      "    )\n",
      "ValueError: Solver lbfgs supports only 'l2' or None penalties, got l1 penalty.\n",
      "\n",
      "--------------------------------------------------------------------------------\n",
      "20 fits failed with the following error:\n",
      "Traceback (most recent call last):\n",
      "  File \"c:\\Users\\Hunte\\AppData\\Local\\Programs\\Python\\Python313\\Lib\\site-packages\\sklearn\\model_selection\\_validation.py\", line 866, in _fit_and_score\n",
      "    estimator.fit(X_train, y_train, **fit_params)\n",
      "    ~~~~~~~~~~~~~^^^^^^^^^^^^^^^^^^^^^^^^^^^^^^^^\n",
      "  File \"c:\\Users\\Hunte\\AppData\\Local\\Programs\\Python\\Python313\\Lib\\site-packages\\sklearn\\base.py\", line 1389, in wrapper\n",
      "    return fit_method(estimator, *args, **kwargs)\n",
      "  File \"c:\\Users\\Hunte\\AppData\\Local\\Programs\\Python\\Python313\\Lib\\site-packages\\sklearn\\linear_model\\_logistic.py\", line 1193, in fit\n",
      "    solver = _check_solver(self.solver, self.penalty, self.dual)\n",
      "  File \"c:\\Users\\Hunte\\AppData\\Local\\Programs\\Python\\Python313\\Lib\\site-packages\\sklearn\\linear_model\\_logistic.py\", line 63, in _check_solver\n",
      "    raise ValueError(\n",
      "    ...<2 lines>...\n",
      "    )\n",
      "ValueError: Solver newton-cg supports only 'l2' or None penalties, got elasticnet penalty.\n",
      "\n",
      "--------------------------------------------------------------------------------\n",
      "10 fits failed with the following error:\n",
      "Traceback (most recent call last):\n",
      "  File \"c:\\Users\\Hunte\\AppData\\Local\\Programs\\Python\\Python313\\Lib\\site-packages\\sklearn\\model_selection\\_validation.py\", line 866, in _fit_and_score\n",
      "    estimator.fit(X_train, y_train, **fit_params)\n",
      "    ~~~~~~~~~~~~~^^^^^^^^^^^^^^^^^^^^^^^^^^^^^^^^\n",
      "  File \"c:\\Users\\Hunte\\AppData\\Local\\Programs\\Python\\Python313\\Lib\\site-packages\\sklearn\\base.py\", line 1389, in wrapper\n",
      "    return fit_method(estimator, *args, **kwargs)\n",
      "  File \"c:\\Users\\Hunte\\AppData\\Local\\Programs\\Python\\Python313\\Lib\\site-packages\\sklearn\\linear_model\\_logistic.py\", line 1193, in fit\n",
      "    solver = _check_solver(self.solver, self.penalty, self.dual)\n",
      "  File \"c:\\Users\\Hunte\\AppData\\Local\\Programs\\Python\\Python313\\Lib\\site-packages\\sklearn\\linear_model\\_logistic.py\", line 71, in _check_solver\n",
      "    raise ValueError(\n",
      "        f\"Only 'saga' solver supports elasticnet penalty, got solver={solver}.\"\n",
      "    )\n",
      "ValueError: Only 'saga' solver supports elasticnet penalty, got solver=liblinear.\n",
      "\n",
      "--------------------------------------------------------------------------------\n",
      "10 fits failed with the following error:\n",
      "Traceback (most recent call last):\n",
      "  File \"c:\\Users\\Hunte\\AppData\\Local\\Programs\\Python\\Python313\\Lib\\site-packages\\sklearn\\model_selection\\_validation.py\", line 866, in _fit_and_score\n",
      "    estimator.fit(X_train, y_train, **fit_params)\n",
      "    ~~~~~~~~~~~~~^^^^^^^^^^^^^^^^^^^^^^^^^^^^^^^^\n",
      "  File \"c:\\Users\\Hunte\\AppData\\Local\\Programs\\Python\\Python313\\Lib\\site-packages\\sklearn\\base.py\", line 1389, in wrapper\n",
      "    return fit_method(estimator, *args, **kwargs)\n",
      "  File \"c:\\Users\\Hunte\\AppData\\Local\\Programs\\Python\\Python313\\Lib\\site-packages\\sklearn\\linear_model\\_logistic.py\", line 1203, in fit\n",
      "    raise ValueError(\"l1_ratio must be specified when penalty is elasticnet.\")\n",
      "ValueError: l1_ratio must be specified when penalty is elasticnet.\n",
      "\n",
      "--------------------------------------------------------------------------------\n",
      "1 fits failed with the following error:\n",
      "Traceback (most recent call last):\n",
      "  File \"c:\\Users\\Hunte\\AppData\\Local\\Programs\\Python\\Python313\\Lib\\site-packages\\sklearn\\model_selection\\_validation.py\", line 866, in _fit_and_score\n",
      "    estimator.fit(X_train, y_train, **fit_params)\n",
      "    ~~~~~~~~~~~~~^^^^^^^^^^^^^^^^^^^^^^^^^^^^^^^^\n",
      "  File \"c:\\Users\\Hunte\\AppData\\Local\\Programs\\Python\\Python313\\Lib\\site-packages\\sklearn\\base.py\", line 1382, in wrapper\n",
      "    estimator._validate_params()\n",
      "    ~~~~~~~~~~~~~~~~~~~~~~~~~~^^\n",
      "  File \"c:\\Users\\Hunte\\AppData\\Local\\Programs\\Python\\Python313\\Lib\\site-packages\\sklearn\\base.py\", line 436, in _validate_params\n",
      "    validate_parameter_constraints(\n",
      "    ~~~~~~~~~~~~~~~~~~~~~~~~~~~~~~^\n",
      "        self._parameter_constraints,\n",
      "        ^^^^^^^^^^^^^^^^^^^^^^^^^^^^\n",
      "        self.get_params(deep=False),\n",
      "        ^^^^^^^^^^^^^^^^^^^^^^^^^^^^\n",
      "        caller_name=self.__class__.__name__,\n",
      "        ^^^^^^^^^^^^^^^^^^^^^^^^^^^^^^^^^^^^\n",
      "    )\n",
      "    ^\n",
      "  File \"c:\\Users\\Hunte\\AppData\\Local\\Programs\\Python\\Python313\\Lib\\site-packages\\sklearn\\utils\\_param_validation.py\", line 98, in validate_parameter_constraints\n",
      "    raise InvalidParameterError(\n",
      "    ...<2 lines>...\n",
      "    )\n",
      "sklearn.utils._param_validation.InvalidParameterError: The 'penalty' parameter of LogisticRegression must be a str among {'l2', 'l1', 'elasticnet'} or None. Got 'none' instead.\n",
      "\n",
      "--------------------------------------------------------------------------------\n",
      "3 fits failed with the following error:\n",
      "Traceback (most recent call last):\n",
      "  File \"c:\\Users\\Hunte\\AppData\\Local\\Programs\\Python\\Python313\\Lib\\site-packages\\sklearn\\model_selection\\_validation.py\", line 866, in _fit_and_score\n",
      "    estimator.fit(X_train, y_train, **fit_params)\n",
      "    ~~~~~~~~~~~~~^^^^^^^^^^^^^^^^^^^^^^^^^^^^^^^^\n",
      "  File \"c:\\Users\\Hunte\\AppData\\Local\\Programs\\Python\\Python313\\Lib\\site-packages\\sklearn\\base.py\", line 1382, in wrapper\n",
      "    estimator._validate_params()\n",
      "    ~~~~~~~~~~~~~~~~~~~~~~~~~~^^\n",
      "  File \"c:\\Users\\Hunte\\AppData\\Local\\Programs\\Python\\Python313\\Lib\\site-packages\\sklearn\\base.py\", line 436, in _validate_params\n",
      "    validate_parameter_constraints(\n",
      "    ~~~~~~~~~~~~~~~~~~~~~~~~~~~~~~^\n",
      "        self._parameter_constraints,\n",
      "        ^^^^^^^^^^^^^^^^^^^^^^^^^^^^\n",
      "        self.get_params(deep=False),\n",
      "        ^^^^^^^^^^^^^^^^^^^^^^^^^^^^\n",
      "        caller_name=self.__class__.__name__,\n",
      "        ^^^^^^^^^^^^^^^^^^^^^^^^^^^^^^^^^^^^\n",
      "    )\n",
      "    ^\n",
      "  File \"c:\\Users\\Hunte\\AppData\\Local\\Programs\\Python\\Python313\\Lib\\site-packages\\sklearn\\utils\\_param_validation.py\", line 98, in validate_parameter_constraints\n",
      "    raise InvalidParameterError(\n",
      "    ...<2 lines>...\n",
      "    )\n",
      "sklearn.utils._param_validation.InvalidParameterError: The 'penalty' parameter of LogisticRegression must be a str among {'elasticnet', 'l2', 'l1'} or None. Got 'none' instead.\n",
      "\n",
      "--------------------------------------------------------------------------------\n",
      "4 fits failed with the following error:\n",
      "Traceback (most recent call last):\n",
      "  File \"c:\\Users\\Hunte\\AppData\\Local\\Programs\\Python\\Python313\\Lib\\site-packages\\sklearn\\model_selection\\_validation.py\", line 866, in _fit_and_score\n",
      "    estimator.fit(X_train, y_train, **fit_params)\n",
      "    ~~~~~~~~~~~~~^^^^^^^^^^^^^^^^^^^^^^^^^^^^^^^^\n",
      "  File \"c:\\Users\\Hunte\\AppData\\Local\\Programs\\Python\\Python313\\Lib\\site-packages\\sklearn\\base.py\", line 1382, in wrapper\n",
      "    estimator._validate_params()\n",
      "    ~~~~~~~~~~~~~~~~~~~~~~~~~~^^\n",
      "  File \"c:\\Users\\Hunte\\AppData\\Local\\Programs\\Python\\Python313\\Lib\\site-packages\\sklearn\\base.py\", line 436, in _validate_params\n",
      "    validate_parameter_constraints(\n",
      "    ~~~~~~~~~~~~~~~~~~~~~~~~~~~~~~^\n",
      "        self._parameter_constraints,\n",
      "        ^^^^^^^^^^^^^^^^^^^^^^^^^^^^\n",
      "        self.get_params(deep=False),\n",
      "        ^^^^^^^^^^^^^^^^^^^^^^^^^^^^\n",
      "        caller_name=self.__class__.__name__,\n",
      "        ^^^^^^^^^^^^^^^^^^^^^^^^^^^^^^^^^^^^\n",
      "    )\n",
      "    ^\n",
      "  File \"c:\\Users\\Hunte\\AppData\\Local\\Programs\\Python\\Python313\\Lib\\site-packages\\sklearn\\utils\\_param_validation.py\", line 98, in validate_parameter_constraints\n",
      "    raise InvalidParameterError(\n",
      "    ...<2 lines>...\n",
      "    )\n",
      "sklearn.utils._param_validation.InvalidParameterError: The 'penalty' parameter of LogisticRegression must be a str among {'l1', 'elasticnet', 'l2'} or None. Got 'none' instead.\n",
      "\n",
      "--------------------------------------------------------------------------------\n",
      "2 fits failed with the following error:\n",
      "Traceback (most recent call last):\n",
      "  File \"c:\\Users\\Hunte\\AppData\\Local\\Programs\\Python\\Python313\\Lib\\site-packages\\sklearn\\model_selection\\_validation.py\", line 866, in _fit_and_score\n",
      "    estimator.fit(X_train, y_train, **fit_params)\n",
      "    ~~~~~~~~~~~~~^^^^^^^^^^^^^^^^^^^^^^^^^^^^^^^^\n",
      "  File \"c:\\Users\\Hunte\\AppData\\Local\\Programs\\Python\\Python313\\Lib\\site-packages\\sklearn\\base.py\", line 1382, in wrapper\n",
      "    estimator._validate_params()\n",
      "    ~~~~~~~~~~~~~~~~~~~~~~~~~~^^\n",
      "  File \"c:\\Users\\Hunte\\AppData\\Local\\Programs\\Python\\Python313\\Lib\\site-packages\\sklearn\\base.py\", line 436, in _validate_params\n",
      "    validate_parameter_constraints(\n",
      "    ~~~~~~~~~~~~~~~~~~~~~~~~~~~~~~^\n",
      "        self._parameter_constraints,\n",
      "        ^^^^^^^^^^^^^^^^^^^^^^^^^^^^\n",
      "        self.get_params(deep=False),\n",
      "        ^^^^^^^^^^^^^^^^^^^^^^^^^^^^\n",
      "        caller_name=self.__class__.__name__,\n",
      "        ^^^^^^^^^^^^^^^^^^^^^^^^^^^^^^^^^^^^\n",
      "    )\n",
      "    ^\n",
      "  File \"c:\\Users\\Hunte\\AppData\\Local\\Programs\\Python\\Python313\\Lib\\site-packages\\sklearn\\utils\\_param_validation.py\", line 98, in validate_parameter_constraints\n",
      "    raise InvalidParameterError(\n",
      "    ...<2 lines>...\n",
      "    )\n",
      "sklearn.utils._param_validation.InvalidParameterError: The 'penalty' parameter of LogisticRegression must be a str among {'elasticnet', 'l1', 'l2'} or None. Got 'none' instead.\n",
      "\n",
      "\n",
      "c:\\Users\\Hunte\\AppData\\Local\\Programs\\Python\\Python313\\Lib\\site-packages\\sklearn\\model_selection\\_search.py:1108: UserWarning:\n",
      "\n",
      "One or more of the test scores are non-finite: [       nan        nan        nan        nan 0.74073821        nan\n",
      "        nan        nan        nan 0.74073821 0.69374573        nan\n",
      " 0.74073821        nan        nan 0.74856459        nan        nan\n",
      "        nan        nan]\n",
      "\n"
     ]
    }
   ],
   "source": [
    "param_dist_lr = {\n",
    "    'penalty':['l1','l2','elasticnet','none'],\n",
    "    'C': np.logspace(-3, 3, 100),\n",
    "    'solver': ['lbfgs','newton-cg','liblinear','sag','saga'],\n",
    "    'class_weight': ['balanced'],\n",
    "    'max_iter'  : [100,1000,2500,5000]\n",
    "}\n",
    "random_search_lr = RandomizedSearchCV(\n",
    "    LogisticRegression(max_iter=1000),\n",
    "    param_distributions=param_dist_lr,\n",
    "    n_iter=20,\n",
    "    scoring='accuracy',\n",
    "    cv=5,\n",
    "    n_jobs=-1,\n",
    "    random_state=42\n",
    ")\n",
    "\n",
    "random_search_lr.fit(X_scaled, y)\n",
    "best_params = random_search_lr.best_params_\n",
    "print(\"Best Logistic Regression Parameters:\", best_params)\n",
    "\n",
    "results_df = pd.DataFrame(random_search_lr.cv_results_)\n",
    "results_df = results_df[results_df['mean_test_score'].notna()] #remove this line\n",
    "\n",
    "results_df = results_df[[\n",
    "    'param_C', 'param_solver', 'param_class_weight',\n",
    "    'mean_test_score', 'std_test_score', 'rank_test_score'\n",
    "]]\n",
    "results_df = results_df.sort_values(by='param_C')\n",
    "\n",
    "\n",
    "#print(\"\\nHyperparameter Combinations:\")\n",
    "#print(results_df.to_string(index=False))\n"
   ]
  },
  {
   "cell_type": "markdown",
   "id": "a62977ce",
   "metadata": {},
   "source": [
    "| param_C   | param_solver | param_class_weight | mean_test_score | std_test_score | rank_test_score |      |\n",
    "|-----------|--------------|--------------------|-----------------|----------------|-----------------|------|\n",
    "| 0.002009  | newton-cg    | balanced           | 0.693746        | 0.037456       | 5               |      |\n",
    "| 0.403702  | saga         | balanced           | 0.748565        | 0.043946       | 1               | best |\n",
    "| 2.154435  | newton-cg    | balanced           | 0.740738        | 0.045385       | 2               |      |\n",
    "| 8.69749   | newton-cg    | balanced           | 0.740738        | 0.045385       | 2               |      |\n",
    "| 53.366992 | lbfgs        | balanced           | 0.740738        | 0.050985       | 2               |      |"
   ]
  },
  {
   "cell_type": "markdown",
   "id": "df0f25e2",
   "metadata": {},
   "source": [
    "<b>Logistic Regression</b>"
   ]
  },
  {
   "cell_type": "code",
   "execution_count": 28,
   "id": "49c8123b",
   "metadata": {},
   "outputs": [
    {
     "data": {
      "image/png": "[encoded data removed]",
      "text/plain": [
       "<Figure size 640x480 with 2 Axes>"
      ]
     },
     "metadata": {},
     "output_type": "display_data"
    },
    {
     "name": "stdout",
     "output_type": "stream",
     "text": [
      "5-Fold Cross Validation (Logistic Regression)\n",
      "              precision    recall  f1-score   support\n",
      "\n",
      "           0     0.7778    0.5000    0.6087        28\n",
      "           1     0.7627    0.9184    0.8333        49\n",
      "\n",
      "    accuracy                         0.7662        77\n",
      "   macro avg     0.7702    0.7092    0.7210        77\n",
      "weighted avg     0.7682    0.7662    0.7516        77\n",
      "\n"
     ]
    },
    {
     "data": {
      "image/png": "[encoded data removed]",
      "text/plain": [
       "<Figure size 640x480 with 2 Axes>"
      ]
     },
     "metadata": {},
     "output_type": "display_data"
    },
    {
     "name": "stdout",
     "output_type": "stream",
     "text": [
      "5-Fold Cross Validation (Logistic Regression)\n",
      "              precision    recall  f1-score   support\n",
      "\n",
      "           0     0.7200    0.5455    0.6207        33\n",
      "           1     0.7115    0.8409    0.7708        44\n",
      "\n",
      "    accuracy                         0.7143        77\n",
      "   macro avg     0.7158    0.6932    0.6958        77\n",
      "weighted avg     0.7152    0.7143    0.7065        77\n",
      "\n"
     ]
    },
    {
     "data": {
      "image/png": "[encoded data removed]",
      "text/plain": [
       "<Figure size 640x480 with 2 Axes>"
      ]
     },
     "metadata": {},
     "output_type": "display_data"
    },
    {
     "name": "stdout",
     "output_type": "stream",
     "text": [
      "5-Fold Cross Validation (Logistic Regression)\n",
      "              precision    recall  f1-score   support\n",
      "\n",
      "           0     0.6364    0.6364    0.6364        22\n",
      "           1     0.8519    0.8519    0.8519        54\n",
      "\n",
      "    accuracy                         0.7895        76\n",
      "   macro avg     0.7441    0.7441    0.7441        76\n",
      "weighted avg     0.7895    0.7895    0.7895        76\n",
      "\n"
     ]
    },
    {
     "data": {
      "image/png": "[encoded data removed]",
      "text/plain": [
       "<Figure size 640x480 with 2 Axes>"
      ]
     },
     "metadata": {},
     "output_type": "display_data"
    },
    {
     "name": "stdout",
     "output_type": "stream",
     "text": [
      "5-Fold Cross Validation (Logistic Regression)\n",
      "              precision    recall  f1-score   support\n",
      "\n",
      "           0     0.5909    0.5000    0.5417        26\n",
      "           1     0.7593    0.8200    0.7885        50\n",
      "\n",
      "    accuracy                         0.7105        76\n",
      "   macro avg     0.6751    0.6600    0.6651        76\n",
      "weighted avg     0.7017    0.7105    0.7040        76\n",
      "\n"
     ]
    },
    {
     "data": {
      "image/png": "[encoded data removed]",
      "text/plain": [
       "<Figure size 640x480 with 2 Axes>"
      ]
     },
     "metadata": {},
     "output_type": "display_data"
    },
    {
     "name": "stdout",
     "output_type": "stream",
     "text": [
      "5-Fold Cross Validation (Logistic Regression)\n",
      "              precision    recall  f1-score   support\n",
      "\n",
      "           0     0.8421    0.4706    0.6038        34\n",
      "           1     0.6842    0.9286    0.7879        42\n",
      "\n",
      "    accuracy                         0.7237        76\n",
      "   macro avg     0.7632    0.6996    0.6958        76\n",
      "weighted avg     0.7548    0.7237    0.7055        76\n",
      "\n"
     ]
    }
   ],
   "source": [
    "'''\n",
    "lr_model = LogisticRegression(**best_params)\n",
    "lr_model.fit(X_train, y_train)\n",
    "y_pred_lr = lr_model.predict(X_test)\n",
    "\n",
    "conf_mtrx1 = confusion_matrix(y_test, y_pred_lr)\n",
    "\n",
    "'''\n",
    "# KFold cross validation (5-fold)\n",
    "kf = KFold(n_splits=5, shuffle=True, random_state=42)\n",
    "\n",
    "\n",
    "for train_index, test_index in kf.split(X_scaled):\n",
    "    X_train_fold, X_test_fold = X_scaled[train_index], X_scaled[test_index]\n",
    "    y_train_fold, y_test_fold = y.iloc[train_index], y.iloc[test_index]\n",
    "\n",
    "    model = LogisticRegression(**best_params)\n",
    "    model.fit(X_train_fold, y_train_fold)\n",
    "    y_pred_fold = model.predict(X_test_fold)\n",
    "\n",
    "    conf_mtrx2 = confusion_matrix(y_test_fold, y_pred_fold)\n",
    "\n",
    "\n",
    "    sns.heatmap(conf_mtrx2, annot=True, fmt='d', cmap='Blues')\n",
    "    plt.title(\"5-Fold Cross Validation (Logistic Regression)\")\n",
    "    plt.xlabel(\"Predicted\")\n",
    "    plt.ylabel(\"Actual\")\n",
    "    plt.show()\n",
    "\n",
    "    print(\"5-Fold Cross Validation (Logistic Regression)\")\n",
    "    print(classification_report(y_test_fold, y_pred_fold, digits=4))\n"
   ]
  },
  {
   "cell_type": "markdown",
   "id": "f3d53d08",
   "metadata": {},
   "source": [
    "Random Forest"
   ]
  },
  {
   "cell_type": "markdown",
   "id": "b1fbbe8f",
   "metadata": {},
   "source": [
    "Hyperparameter Tuning using Random Search"
   ]
  },
  {
   "cell_type": "code",
   "execution_count": 29,
   "id": "6750b39b",
   "metadata": {},
   "outputs": [
    {
     "name": "stdout",
     "output_type": "stream",
     "text": [
      "Best Random Forest Parameters: {'n_estimators': 200, 'min_samples_split': 10, 'min_samples_leaf': 1, 'max_leaf_nodes': 6, 'max_depth': None, 'class_weight': None}\n"
     ]
    }
   ],
   "source": [
    "param_dist_rf = {\n",
    "    'n_estimators': [100, 200, 300, 500, 1000],\n",
    "    'max_depth': [None, 5, 10, 20, 30], \n",
    "    'max_leaf_nodes': [None, 2, 4, 6],\n",
    "    'min_samples_split': [2, 5, 10],\n",
    "    'min_samples_leaf': [1, 2],\n",
    "    'class_weight': [None, 'balanced']\n",
    "}\n",
    "\n",
    "random_search_rf = RandomizedSearchCV(\n",
    "    RandomForestClassifier(random_state=42),\n",
    "    param_distributions=param_dist_rf,\n",
    "    n_iter=30,\n",
    "    scoring='accuracy',\n",
    "    cv=5,\n",
    "    n_jobs=-1,\n",
    "    random_state=42\n",
    ")\n",
    "\n",
    "random_search_rf.fit(X_scaled, y)\n",
    "\n",
    "best_rf_params = random_search_rf.best_params_\n",
    "print(\"Best Random Forest Parameters:\", best_rf_params)\n",
    "\n",
    "results_df = pd.DataFrame(random_search_rf.cv_results_)\n",
    "results_df = results_df[[\n",
    "    'param_n_estimators', 'param_max_depth', 'param_max_leaf_nodes', 'param_min_samples_split', 'param_min_samples_leaf', 'param_class_weight',\n",
    "    'mean_test_score', 'std_test_score', 'rank_test_score'\n",
    "]]\n",
    "results_df = results_df.sort_values(by='param_n_estimators')\n",
    "\n",
    "\n",
    "#print(\"\\nHyperparameter Combinations:\")\n",
    "#print(results_df.to_string(index=False))\n"
   ]
  },
  {
   "cell_type": "markdown",
   "id": "d801d124",
   "metadata": {},
   "source": [
    "| param_n_estimators | param_max_depth | param_max_leaf_nodes | param_min_samples_split | param_min_samples_leaf | param_class_weight | mean_test_score | std_test_score | rank_test_score |      |\n",
    "|--------------------|-----------------|----------------------|-------------------------|------------------------|--------------------|-----------------|----------------|-----------------|------|\n",
    "| 100                | 10              | None                 | 10                      | 2                      | balanced           | 0.738278        | 0.049829       | 13              |      |\n",
    "| 100                | 30              | 2                    | 10                      | 1                      | balanced           | 0.733049        | 0.020428       | 16              |      |\n",
    "| 100                | 5               | 6                    | 10                      | 1                      | balanced           | 0.732946        | 0.027377       | 21              |      |\n",
    "| 100                | 10              | None                 | 2                       | 2                      | balanced           | 0.740772        | 0.04339        | 11              |      |\n",
    "| 100                | 5               | 2                    | 5                       | 2                      | None               | 0.698975        | 0.021529       | 26              |      |\n",
    "| 100                | 10              | None                 | 2                       | 1                      | None               | 0.748565        | 0.034354       | 10              |      |\n",
    "| 100                | 20              | None                 | 5                       | 2                      | None               | 0.719891        | 0.031441       | 23              |      |\n",
    "| 100                | 5               | 2                    | 2                       | 2                      | balanced           | 0.733049        | 0.020428       | 16              |      |\n",
    "| 100                | 30              | 6                    | 2                       | 1                      | None               | 0.756528        | 0.013614       | 1               |      |\n",
    "| 200                | None            | 4                    | 2                       | 2                      | balanced           | 0.733014        | 0.03929        | 18              |      |\n",
    "| 200                | None            | 6                    | 10                      | 1                      | None               | 0.756528        | 0.013614       | 1               | best |\n",
    "| 200                | 20              | 2                    | 5                       | 2                      | None               | 0.69108         | 0.033966       | 30              |      |\n",
    "| 300                | None            | 4                    | 2                       | 2                      | balanced           | 0.738278        | 0.030575       | 12              |      |\n",
    "| 300                | 10              | 2                    | 5                       | 1                      | None               | 0.698941        | 0.023578       | 29              |      |\n",
    "| 500  | 30   | 6    | 5  | 1 | balanced | 0.73298  | 0.029459 | 19 |   |\n",
    "| 500  | 10   | 4    | 5  | 2 | None     | 0.751333 | 0.013872 | 8  |   |\n",
    "| 500  | 30   | 6    | 10 | 2 | None     | 0.75393  | 0.012724 | 5  |   |\n",
    "| 500  | 10   | 6    | 10 | 2 | None     | 0.75393  | 0.012724 | 5  |   |\n",
    "| 500  | 5    | 6    | 10 | 2 | balanced | 0.73298  | 0.019663 | 19 |   |\n",
    "| 500  | 30   | 2    | 10 | 1 | None     | 0.706835 | 0.017195 | 24 |   |\n",
    "| 500  | 20   | 4    | 2  | 1 | None     | 0.751333 | 0.013872 | 8  |   |\n",
    "| 500  | None | 2    | 10 | 2 | None     | 0.706835 | 0.017195 | 24 |   |\n",
    "| 1000 | 20   | 4    | 2  | 2 | None     | 0.756528 | 0.013614 | 1  |   |\n",
    "| 1000 | 20   | None | 10 | 1 | balanced | 0.735578 | 0.035611 | 15 |   |\n",
    "| 1000 | None | 2    | 2  | 2 | None     | 0.698975 | 0.018126 | 26 |   |\n",
    "| 1000 | 10   | None | 5  | 1 | balanced | 0.732946 | 0.024609 | 21 |   |\n",
    "| 1000 | None | 2    | 10 | 1 | None     | 0.698975 | 0.018126 | 26 |   |\n",
    "| 1000 | None | None | 5  | 1 | balanced | 0.738175 | 0.025146 | 14 |   |\n",
    "| 1000 | 10   | 6    | 10 | 1 | None     | 0.756528 | 0.013614 | 1  |   |\n",
    "| 1000 | None | 6    | 2  | 2 | None     | 0.75393  | 0.012724 | 5  |   |"
   ]
  },
  {
   "cell_type": "code",
   "execution_count": 30,
   "id": "148df9f9",
   "metadata": {},
   "outputs": [
    {
     "data": {
      "image/png": "[encoded data removed]",
      "text/plain": [
       "<Figure size 640x480 with 2 Axes>"
      ]
     },
     "metadata": {},
     "output_type": "display_data"
    },
    {
     "name": "stdout",
     "output_type": "stream",
     "text": [
      "5-Fold Cross Validation (Logistic Regression)\n",
      "              precision    recall  f1-score   support\n",
      "\n",
      "           0     0.7778    0.5000    0.6087        28\n",
      "           1     0.7627    0.9184    0.8333        49\n",
      "\n",
      "    accuracy                         0.7662        77\n",
      "   macro avg     0.7702    0.7092    0.7210        77\n",
      "weighted avg     0.7682    0.7662    0.7516        77\n",
      "\n"
     ]
    },
    {
     "data": {
      "image/png": "[encoded data removed]",
      "text/plain": [
       "<Figure size 640x480 with 2 Axes>"
      ]
     },
     "metadata": {},
     "output_type": "display_data"
    },
    {
     "name": "stdout",
     "output_type": "stream",
     "text": [
      "5-Fold Cross Validation (Logistic Regression)\n",
      "              precision    recall  f1-score   support\n",
      "\n",
      "           0     0.7200    0.5455    0.6207        33\n",
      "           1     0.7115    0.8409    0.7708        44\n",
      "\n",
      "    accuracy                         0.7143        77\n",
      "   macro avg     0.7158    0.6932    0.6958        77\n",
      "weighted avg     0.7152    0.7143    0.7065        77\n",
      "\n"
     ]
    },
    {
     "data": {
      "image/png": "[encoded data removed]",
      "text/plain": [
       "<Figure size 640x480 with 2 Axes>"
      ]
     },
     "metadata": {},
     "output_type": "display_data"
    },
    {
     "name": "stdout",
     "output_type": "stream",
     "text": [
      "5-Fold Cross Validation (Logistic Regression)\n",
      "              precision    recall  f1-score   support\n",
      "\n",
      "           0     0.6364    0.6364    0.6364        22\n",
      "           1     0.8519    0.8519    0.8519        54\n",
      "\n",
      "    accuracy                         0.7895        76\n",
      "   macro avg     0.7441    0.7441    0.7441        76\n",
      "weighted avg     0.7895    0.7895    0.7895        76\n",
      "\n"
     ]
    },
    {
     "data": {
      "image/png": "[encoded data removed]",
      "text/plain": [
       "<Figure size 640x480 with 2 Axes>"
      ]
     },
     "metadata": {},
     "output_type": "display_data"
    },
    {
     "name": "stdout",
     "output_type": "stream",
     "text": [
      "5-Fold Cross Validation (Logistic Regression)\n",
      "              precision    recall  f1-score   support\n",
      "\n",
      "           0     0.5909    0.5000    0.5417        26\n",
      "           1     0.7593    0.8200    0.7885        50\n",
      "\n",
      "    accuracy                         0.7105        76\n",
      "   macro avg     0.6751    0.6600    0.6651        76\n",
      "weighted avg     0.7017    0.7105    0.7040        76\n",
      "\n"
     ]
    },
    {
     "data": {
      "image/png": "[encoded data removed]",
      "text/plain": [
       "<Figure size 640x480 with 2 Axes>"
      ]
     },
     "metadata": {},
     "output_type": "display_data"
    },
    {
     "name": "stdout",
     "output_type": "stream",
     "text": [
      "5-Fold Cross Validation (Logistic Regression)\n",
      "              precision    recall  f1-score   support\n",
      "\n",
      "           0     0.8421    0.4706    0.6038        34\n",
      "           1     0.6842    0.9286    0.7879        42\n",
      "\n",
      "    accuracy                         0.7237        76\n",
      "   macro avg     0.7632    0.6996    0.6958        76\n",
      "weighted avg     0.7548    0.7237    0.7055        76\n",
      "\n"
     ]
    }
   ],
   "source": [
    "'''\n",
    "rf_model = RandomForestClassifier(**best_rf_params, random_state=42)\n",
    "rf_model.fit(X_train, y_train)\n",
    "y_pred_rf = rf_model.predict(X_test)\n",
    "\n",
    "conf_mtrx1 = confusion_matrix(y_test, y_pred_rf)\n",
    "'''\n",
    "\n",
    "# KFold cross validation (5-fold)\n",
    "kf = KFold(n_splits=5, shuffle=True, random_state=42)\n",
    "y_true_all = []\n",
    "y_pred_all = []\n",
    "\n",
    "for train_index, test_index in kf.split(X_scaled):\n",
    "    X_train_fold, X_test_fold = X_scaled[train_index], X_scaled[test_index]\n",
    "    y_train_fold, y_test_fold = y.iloc[train_index], y.iloc[test_index]\n",
    "\n",
    "    rf_model = RandomForestClassifier(**best_rf_params, random_state=42)\n",
    "    model.fit(X_train_fold, y_train_fold)\n",
    "    y_pred_fold = model.predict(X_test_fold)\n",
    "\n",
    "    y_true_all.extend(y_test_fold)\n",
    "    y_pred_all.extend(y_pred_fold)\n",
    "    \n",
    "    conf_mtrx2 = confusion_matrix(y_test_fold, y_pred_fold)\n",
    "\n",
    "\n",
    "    sns.heatmap(conf_mtrx2, annot=True, fmt='d', cmap='Blues')\n",
    "    plt.title(\"5-Fold Cross Validation (Logistic Regression)\")\n",
    "    plt.xlabel(\"Predicted\")\n",
    "    plt.ylabel(\"Actual\")\n",
    "    plt.show()\n",
    "\n",
    "    print(\"5-Fold Cross Validation (Logistic Regression)\")\n",
    "    print(classification_report(y_test_fold, y_pred_fold, digits=4))"
   ]
  },
  {
   "cell_type": "markdown",
   "id": "e674486a",
   "metadata": {},
   "source": [
    "Support Vector Machine (SVM)"
   ]
  },
  {
   "cell_type": "markdown",
   "id": "eb71b475",
   "metadata": {},
   "source": [
    "Hyperparameter Tuning using Random Search"
   ]
  },
  {
   "cell_type": "code",
   "execution_count": 31,
   "id": "244d0ef3",
   "metadata": {},
   "outputs": [
    {
     "name": "stdout",
     "output_type": "stream",
     "text": [
      "Best SVM Parameters: {'kernel': 'rbf', 'gamma': 0.001, 'class_weight': 'balanced', 'C': 100}\n"
     ]
    }
   ],
   "source": [
    "param_dist_svm = {\n",
    "    'C': [0.1, 1, 10, 100, 1000],\n",
    "    'gamma': ['scale', 'auto', 0.01, 0.001, 0.0001],\n",
    "    'kernel': ['rbf'],\n",
    "    'class_weight': ['balanced']\n",
    "}\n",
    "\n",
    "random_search_svm = RandomizedSearchCV(\n",
    "    SVC(probability=True, random_state=42),\n",
    "    param_distributions=param_dist_svm,\n",
    "    n_iter=20,\n",
    "    scoring='accuracy',\n",
    "    cv=5,\n",
    "    random_state=42,\n",
    "    n_jobs=-1\n",
    ")\n",
    "\n",
    "random_search_svm.fit(X_scaled, y)\n",
    "best_svm_params = random_search_svm.best_params_\n",
    "print(\"Best SVM Parameters:\", best_svm_params)\n",
    "\n",
    "\n",
    "results_df = pd.DataFrame(random_search_svm.cv_results_)\n",
    "results_df = results_df[[\n",
    "    'param_C', 'param_gamma', 'param_kernel', 'param_class_weight',\n",
    "    'mean_test_score', 'std_test_score', 'rank_test_score'\n",
    "]]\n",
    "results_df = results_df.sort_values(by='param_C')\n",
    "\n",
    "\n",
    "#print(\"\\nHyperparameter Combinations:\")\n",
    "#print(results_df.to_string(index=False))"
   ]
  },
  {
   "cell_type": "markdown",
   "id": "e81f904c",
   "metadata": {},
   "source": [
    "| param_C | param_gamma | param_kernel | param_class_weight | mean_test_score | std_test_score | rank_test_score |   |\n",
    "|---------|-------------|--------------|--------------------|-----------------|----------------|-----------------|---|\n",
    "| 0.1     | scale       | rbf          | balanced           | 0.685783        | 0.022979       | 10              |   |\n",
    "| 0.1     | auto        | rbf          | balanced           | 0.685817        | 0.025382       | 9               |   |\n",
    "| 0.1     | 0.001       | rbf          | balanced           | 0.625666        | 0.005156       | 18              |   |\n",
    "| 0.1     | 0.01        | rbf          | balanced           | 0.680588        | 0.029778       | 12              |   |\n",
    "| 0.1     | 0.0001      | rbf          | balanced           | 0.625666        | 0.005156       | 18              |   |\n",
    "| 1       | scale       | rbf          | balanced           | 0.724983        | 0.047822       | 5               |   |\n",
    "| 1       | 0.0001      | rbf          | balanced           | 0.520403        | 0.124106       | 20              |   |\n",
    "| 1       | 0.001       | rbf          | balanced           | 0.688448        | 0.019659       | 8               |   |\n",
    "| 10      | 0.01        | rbf          | balanced           | 0.751128        | 0.037302       | 3               |   |\n",
    "| 10      | auto        | rbf          | balanced           | 0.672727        | 0.031207       | 13              |   |\n",
    "| 10      | 0.001       | rbf          | balanced           | 0.711825        | 0.045034       | 6               |   |\n",
    "| 100     | auto        | rbf          | balanced           | 0.659638        | 0.043306       | 14              |   |\n",
    "| 100     | scale       | rbf          | balanced           | 0.657006        | 0.046044       | 15              |   |\n",
    "| 100     | 0.01        | rbf          | balanced           | 0.709296        | 0.025364       | 7               |   |\n",
    "| 100  | 0.001  | rbf | balanced | 0.753759 | 0.037593 | 1  | best |\n",
    "| 1000 | 0.001  | rbf | balanced | 0.751128 | 0.037302 | 3  |      |\n",
    "| 1000 | scale  | rbf | balanced | 0.630998 | 0.041489 | 17 |      |\n",
    "| 1000 | 0.01   | rbf | balanced | 0.683151 | 0.042488 | 11 |      |\n",
    "| 1000 | auto   | rbf | balanced | 0.636227 | 0.042326 | 16 |      |\n",
    "| 1000 | 0.0001 | rbf | balanced | 0.753759 | 0.037593 | 1  |      |"
   ]
  },
  {
   "cell_type": "code",
   "execution_count": 32,
   "id": "22e83c8a",
   "metadata": {},
   "outputs": [
    {
     "data": {
      "image/png": "[encoded data removed]",
      "text/plain": [
       "<Figure size 640x480 with 2 Axes>"
      ]
     },
     "metadata": {},
     "output_type": "display_data"
    },
    {
     "name": "stdout",
     "output_type": "stream",
     "text": [
      "5-Fold Cross Validation (Logistic Regression)\n",
      "              precision    recall  f1-score   support\n",
      "\n",
      "           0     0.7619    0.5714    0.6531        28\n",
      "           1     0.7857    0.8980    0.8381        49\n",
      "\n",
      "    accuracy                         0.7792        77\n",
      "   macro avg     0.7738    0.7347    0.7456        77\n",
      "weighted avg     0.7771    0.7792    0.7708        77\n",
      "\n",
      "              precision    recall  f1-score   support\n",
      "\n",
      "           0     0.7619    0.5714    0.6531        28\n",
      "           1     0.7857    0.8980    0.8381        49\n",
      "\n",
      "    accuracy                         0.7792        77\n",
      "   macro avg     0.7738    0.7347    0.7456        77\n",
      "weighted avg     0.7771    0.7792    0.7708        77\n",
      "\n"
     ]
    },
    {
     "data": {
      "image/png": "[encoded data removed]",
      "text/plain": [
       "<Figure size 640x480 with 2 Axes>"
      ]
     },
     "metadata": {},
     "output_type": "display_data"
    },
    {
     "name": "stdout",
     "output_type": "stream",
     "text": [
      "5-Fold Cross Validation (Logistic Regression)\n",
      "              precision    recall  f1-score   support\n",
      "\n",
      "           0     0.7037    0.5758    0.6333        33\n",
      "           1     0.7200    0.8182    0.7660        44\n",
      "\n",
      "    accuracy                         0.7143        77\n",
      "   macro avg     0.7119    0.6970    0.6996        77\n",
      "weighted avg     0.7130    0.7143    0.7091        77\n",
      "\n",
      "              precision    recall  f1-score   support\n",
      "\n",
      "           0     0.7292    0.5738    0.6422        61\n",
      "           1     0.7547    0.8602    0.8040        93\n",
      "\n",
      "    accuracy                         0.7468       154\n",
      "   macro avg     0.7419    0.7170    0.7231       154\n",
      "weighted avg     0.7446    0.7468    0.7399       154\n",
      "\n"
     ]
    },
    {
     "data": {
      "image/png": "[encoded data removed]",
      "text/plain": [
       "<Figure size 640x480 with 2 Axes>"
      ]
     },
     "metadata": {},
     "output_type": "display_data"
    },
    {
     "name": "stdout",
     "output_type": "stream",
     "text": [
      "5-Fold Cross Validation (Logistic Regression)\n",
      "              precision    recall  f1-score   support\n",
      "\n",
      "           0     0.6364    0.6364    0.6364        22\n",
      "           1     0.8519    0.8519    0.8519        54\n",
      "\n",
      "    accuracy                         0.7895        76\n",
      "   macro avg     0.7441    0.7441    0.7441        76\n",
      "weighted avg     0.7895    0.7895    0.7895        76\n",
      "\n",
      "              precision    recall  f1-score   support\n",
      "\n",
      "           0     0.7000    0.5904    0.6405        83\n",
      "           1     0.7875    0.8571    0.8208       147\n",
      "\n",
      "    accuracy                         0.7609       230\n",
      "   macro avg     0.7437    0.7238    0.7307       230\n",
      "weighted avg     0.7559    0.7609    0.7558       230\n",
      "\n"
     ]
    },
    {
     "data": {
      "image/png": "[encoded data removed]",
      "text/plain": [
       "<Figure size 640x480 with 2 Axes>"
      ]
     },
     "metadata": {},
     "output_type": "display_data"
    },
    {
     "name": "stdout",
     "output_type": "stream",
     "text": [
      "5-Fold Cross Validation (Logistic Regression)\n",
      "              precision    recall  f1-score   support\n",
      "\n",
      "           0     0.6522    0.5769    0.6122        26\n",
      "           1     0.7925    0.8400    0.8155        50\n",
      "\n",
      "    accuracy                         0.7500        76\n",
      "   macro avg     0.7223    0.7085    0.7139        76\n",
      "weighted avg     0.7445    0.7500    0.7460        76\n",
      "\n",
      "              precision    recall  f1-score   support\n",
      "\n",
      "           0     0.6882    0.5872    0.6337       109\n",
      "           1     0.7887    0.8528    0.8195       197\n",
      "\n",
      "    accuracy                         0.7582       306\n",
      "   macro avg     0.7385    0.7200    0.7266       306\n",
      "weighted avg     0.7529    0.7582    0.7533       306\n",
      "\n"
     ]
    },
    {
     "data": {
      "image/png": "[encoded data removed]",
      "text/plain": [
       "<Figure size 640x480 with 2 Axes>"
      ]
     },
     "metadata": {},
     "output_type": "display_data"
    },
    {
     "name": "stdout",
     "output_type": "stream",
     "text": [
      "5-Fold Cross Validation (Logistic Regression)\n",
      "              precision    recall  f1-score   support\n",
      "\n",
      "           0     0.8500    0.5000    0.6296        34\n",
      "           1     0.6964    0.9286    0.7959        42\n",
      "\n",
      "    accuracy                         0.7368        76\n",
      "   macro avg     0.7732    0.7143    0.7128        76\n",
      "weighted avg     0.7651    0.7368    0.7215        76\n",
      "\n",
      "              precision    recall  f1-score   support\n",
      "\n",
      "           0     0.7168    0.5664    0.6328       143\n",
      "           1     0.7695    0.8661    0.8150       239\n",
      "\n",
      "    accuracy                         0.7539       382\n",
      "   macro avg     0.7432    0.7163    0.7239       382\n",
      "weighted avg     0.7498    0.7539    0.7468       382\n",
      "\n"
     ]
    }
   ],
   "source": [
    "'''\n",
    "svm_model = SVC(**best_svm_params, probability=True, random_state=42)\n",
    "svm_model.fit(X_train, y_train)\n",
    "y_pred_svm = svm_model.predict(X_test)\n",
    "\n",
    "conf_mtrx1 = confusion_matrix(y_test, y_pred_svm)\n",
    "'''\n",
    "\n",
    "# KFold cross validation (5-fold)\n",
    "kf = KFold(n_splits=5, shuffle=True, random_state=42)\n",
    "y_true_all = []\n",
    "y_pred_all = []\n",
    "\n",
    "for train_index, test_index in kf.split(X_scaled):\n",
    "    X_train_fold, X_test_fold = X_scaled[train_index], X_scaled[test_index]\n",
    "    y_train_fold, y_test_fold = y.iloc[train_index], y.iloc[test_index]\n",
    "\n",
    "    model = SVC(**best_svm_params, probability=True, random_state=42)\n",
    "    model.fit(X_train_fold, y_train_fold)\n",
    "    y_pred_fold = model.predict(X_test_fold)\n",
    "\n",
    "    y_true_all.extend(y_test_fold)\n",
    "    y_pred_all.extend(y_pred_fold)\n",
    "\n",
    "    conf_mtrx2 = confusion_matrix(y_test_fold, y_pred_fold)\n",
    "\n",
    "\n",
    "    sns.heatmap(conf_mtrx2, annot=True, fmt='d', cmap='Blues')\n",
    "    plt.title(\"5-Fold Cross Validation (Logistic Regression)\")\n",
    "    plt.xlabel(\"Predicted\")\n",
    "    plt.ylabel(\"Actual\")\n",
    "    plt.show()\n",
    "\n",
    "    print(\"5-Fold Cross Validation (Logistic Regression)\")\n",
    "    print(classification_report(y_test_fold, y_pred_fold, digits=4))\n",
    "    print(classification_report(y_true_all, y_pred_all, digits=4))"
   ]
  },
  {
   "cell_type": "markdown",
   "id": "67ff68ae",
   "metadata": {},
   "source": [
    "<b>Analysis</b>"
   ]
  },
  {
   "cell_type": "code",
   "execution_count": 33,
   "id": "1c68c758",
   "metadata": {},
   "outputs": [
    {
     "name": "stdout",
     "output_type": "stream",
     "text": [
      "\n",
      " ANOVA F-test\n",
      "Dalc_mat: F=4.78, p=0.0293\n",
      "Walc_mat: F=1.73, p=0.1892\n",
      "absences_mat: F=1.98, p=0.1603\n",
      "studytime_mat: F=4.49, p=0.0348\n",
      "goout_mat: F=4.22, p=0.0406\n",
      "higher_mat: F=28.00, p=0.0000\n",
      "famsup_mat: F=0.17, p=0.6786\n",
      "romantic_mat: F=0.03, p=0.8733\n",
      "failures_mat: F=80.97, p=0.0000\n",
      "famrel_mat: F=0.38, p=0.5371\n",
      "schoolsup_mat: F=6.11, p=0.0139\n"
     ]
    },
    {
     "data": {
      "image/png": "[encoded data removed]",
      "text/plain": [
       "<Figure size 800x600 with 1 Axes>"
      ]
     },
     "metadata": {},
     "output_type": "display_data"
    }
   ],
   "source": [
    "# Multivariate Analysis \n",
    "print(\"\\n ANOVA F-test\")\n",
    "f_stat, p_val = f_classif(X, y)\n",
    "for i, col in enumerate(X.columns):\n",
    "    print(f\"{col}: F={f_stat[i]:.2f}, p={p_val[i]:.4f}\")\n",
    "\n",
    "anova_df = pd.DataFrame({\n",
    "    'Feature': X.columns,\n",
    "    'F-Score': f_stat,\n",
    "    'p-value': p_val\n",
    "})\n",
    "\n",
    "plt.figure(figsize=(8, 6))\n",
    "sns.scatterplot(x=f_stat, y=p_val, hue=X.columns)\n",
    "plt.axhline(0.05, color='red', linestyle='-', label='p = 0.05')\n",
    "plt.xlabel(\"F-Score\")\n",
    "plt.ylabel(\"p-value\")\n",
    "plt.title(\"ANOVA F-Test: F-score vs. p-value\")\n",
    "plt.show()"
   ]
  },
  {
   "cell_type": "markdown",
   "id": "08129fd7",
   "metadata": {},
   "source": [
    "Based on our ANOVA test (the features below the red line) we can see that the significant features are:\n",
    "1. Dalc_mat\n",
    "2. studytime_mat\n",
    "3. goout_mat\n",
    "4. higher_mat\n",
    "5. failures_mat\n",
    "6. schoolsup_mat\n",
    "\n",
    "while the insignificant ones are:\n",
    "1. Walc_mat\n",
    "2. absences_mat\n",
    "3. famsup_mat\n",
    "4. romantic_mat\n",
    "5. famrel_mat\n",
    "\n",
    "Now that we know our significant features, a combination of the them would lead to the best or worst academic performance. \n",
    "<br>i.e. low Dalc_mat, high studytime_mat, low goout_mat, etc for the best academic performance and vice versa for the worst."
   ]
  },
  {
   "cell_type": "code",
   "execution_count": 34,
   "id": "3c5246cc",
   "metadata": {},
   "outputs": [
    {
     "name": "stdout",
     "output_type": "stream",
     "text": [
      "\n",
      "Logistic Regression Coefficients:\n",
      "Dalc_mat: -0.1490\n",
      "Walc_mat: 0.1604\n",
      "absences_mat: -0.0977\n",
      "studytime_mat: 0.0337\n",
      "goout_mat: -0.1519\n",
      "higher_mat: 0.5763\n",
      "famsup_mat: -0.0839\n",
      "romantic_mat: 0.1017\n",
      "failures_mat: -1.2048\n",
      "famrel_mat: -0.0095\n",
      "schoolsup_mat: -0.2703\n"
     ]
    },
    {
     "data": {
      "application/vnd.plotly.v1+json": {
       "config": {
        "plotlyServerURL": "https://plot.ly"
       },
       "data": [
        {
         "hovertemplate": "Feature=%{x}<br>Coefficient=%{marker.color}<extra></extra>",
         "legendgroup": "",
         "marker": {
          "color": {
           "bdata": "HEQPVH0Rw7+gdsBCaYbEP5LguIylBLm/aeFOs6pEoT86prYPFnDDv1bE4Si0cOI/MjZQKO96tb9Z/gh3owq6P667nSLpRvO/eHde3a+Ag79A1tG6H0zRvw==",
           "dtype": "f8"
          },
          "coloraxis": "coloraxis",
          "pattern": {
           "shape": ""
          }
         },
         "name": "",
         "orientation": "v",
         "showlegend": false,
         "textposition": "auto",
         "type": "bar",
         "x": [
          "Dalc_mat",
          "Walc_mat",
          "absences_mat",
          "studytime_mat",
          "goout_mat",
          "higher_mat",
          "famsup_mat",
          "romantic_mat",
          "failures_mat",
          "famrel_mat",
          "schoolsup_mat"
         ],
         "xaxis": "x",
         "y": {
          "bdata": "HEQPVH0Rw7+gdsBCaYbEP5LguIylBLm/aeFOs6pEoT86prYPFnDDv1bE4Si0cOI/MjZQKO96tb9Z/gh3owq6P667nSLpRvO/eHde3a+Ag79A1tG6H0zRvw==",
          "dtype": "f8"
         },
         "yaxis": "y"
        }
       ],
       "layout": {
        "barmode": "relative",
        "coloraxis": {
         "colorbar": {
          "title": {
           "text": "Coefficient"
          }
         },
         "colorscale": [
          [
           0,
           "#0d0887"
          ],
          [
           0.1111111111111111,
           "#46039f"
          ],
          [
           0.2222222222222222,
           "#7201a8"
          ],
          [
           0.3333333333333333,
           "#9c179e"
          ],
          [
           0.4444444444444444,
           "#bd3786"
          ],
          [
           0.5555555555555556,
           "#d8576b"
          ],
          [
           0.6666666666666666,
           "#ed7953"
          ],
          [
           0.7777777777777778,
           "#fb9f3a"
          ],
          [
           0.8888888888888888,
           "#fdca26"
          ],
          [
           1,
           "#f0f921"
          ]
         ]
        },
        "legend": {
         "tracegroupgap": 0
        },
        "template": {
         "data": {
          "bar": [
           {
            "error_x": {
             "color": "#2a3f5f"
            },
            "error_y": {
             "color": "#2a3f5f"
            },
            "marker": {
             "line": {
              "color": "#E5ECF6",
              "width": 0.5
             },
             "pattern": {
              "fillmode": "overlay",
              "size": 10,
              "solidity": 0.2
             }
            },
            "type": "bar"
           }
          ],
          "barpolar": [
           {
            "marker": {
             "line": {
              "color": "#E5ECF6",
              "width": 0.5
             },
             "pattern": {
              "fillmode": "overlay",
              "size": 10,
              "solidity": 0.2
             }
            },
            "type": "barpolar"
           }
          ],
          "carpet": [
           {
            "aaxis": {
             "endlinecolor": "#2a3f5f",
             "gridcolor": "white",
             "linecolor": "white",
             "minorgridcolor": "white",
             "startlinecolor": "#2a3f5f"
            },
            "baxis": {
             "endlinecolor": "#2a3f5f",
             "gridcolor": "white",
             "linecolor": "white",
             "minorgridcolor": "white",
             "startlinecolor": "#2a3f5f"
            },
            "type": "carpet"
           }
          ],
          "choropleth": [
           {
            "colorbar": {
             "outlinewidth": 0,
             "ticks": ""
            },
            "type": "choropleth"
           }
          ],
          "contour": [
           {
            "colorbar": {
             "outlinewidth": 0,
             "ticks": ""
            },
            "colorscale": [
             [
              0,
              "#0d0887"
             ],
             [
              0.1111111111111111,
              "#46039f"
             ],
             [
              0.2222222222222222,
              "#7201a8"
             ],
             [
              0.3333333333333333,
              "#9c179e"
             ],
             [
              0.4444444444444444,
              "#bd3786"
             ],
             [
              0.5555555555555556,
              "#d8576b"
             ],
             [
              0.6666666666666666,
              "#ed7953"
             ],
             [
              0.7777777777777778,
              "#fb9f3a"
             ],
             [
              0.8888888888888888,
              "#fdca26"
             ],
             [
              1,
              "#f0f921"
             ]
            ],
            "type": "contour"
           }
          ],
          "contourcarpet": [
           {
            "colorbar": {
             "outlinewidth": 0,
             "ticks": ""
            },
            "type": "contourcarpet"
           }
          ],
          "heatmap": [
           {
            "colorbar": {
             "outlinewidth": 0,
             "ticks": ""
            },
            "colorscale": [
             [
              0,
              "#0d0887"
             ],
             [
              0.1111111111111111,
              "#46039f"
             ],
             [
              0.2222222222222222,
              "#7201a8"
             ],
             [
              0.3333333333333333,
              "#9c179e"
             ],
             [
              0.4444444444444444,
              "#bd3786"
             ],
             [
              0.5555555555555556,
              "#d8576b"
             ],
             [
              0.6666666666666666,
              "#ed7953"
             ],
             [
              0.7777777777777778,
              "#fb9f3a"
             ],
             [
              0.8888888888888888,
              "#fdca26"
             ],
             [
              1,
              "#f0f921"
             ]
            ],
            "type": "heatmap"
           }
          ],
          "histogram": [
           {
            "marker": {
             "pattern": {
              "fillmode": "overlay",
              "size": 10,
              "solidity": 0.2
             }
            },
            "type": "histogram"
           }
          ],
          "histogram2d": [
           {
            "colorbar": {
             "outlinewidth": 0,
             "ticks": ""
            },
            "colorscale": [
             [
              0,
              "#0d0887"
             ],
             [
              0.1111111111111111,
              "#46039f"
             ],
             [
              0.2222222222222222,
              "#7201a8"
             ],
             [
              0.3333333333333333,
              "#9c179e"
             ],
             [
              0.4444444444444444,
              "#bd3786"
             ],
             [
              0.5555555555555556,
              "#d8576b"
             ],
             [
              0.6666666666666666,
              "#ed7953"
             ],
             [
              0.7777777777777778,
              "#fb9f3a"
             ],
             [
              0.8888888888888888,
              "#fdca26"
             ],
             [
              1,
              "#f0f921"
             ]
            ],
            "type": "histogram2d"
           }
          ],
          "histogram2dcontour": [
           {
            "colorbar": {
             "outlinewidth": 0,
             "ticks": ""
            },
            "colorscale": [
             [
              0,
              "#0d0887"
             ],
             [
              0.1111111111111111,
              "#46039f"
             ],
             [
              0.2222222222222222,
              "#7201a8"
             ],
             [
              0.3333333333333333,
              "#9c179e"
             ],
             [
              0.4444444444444444,
              "#bd3786"
             ],
             [
              0.5555555555555556,
              "#d8576b"
             ],
             [
              0.6666666666666666,
              "#ed7953"
             ],
             [
              0.7777777777777778,
              "#fb9f3a"
             ],
             [
              0.8888888888888888,
              "#fdca26"
             ],
             [
              1,
              "#f0f921"
             ]
            ],
            "type": "histogram2dcontour"
           }
          ],
          "mesh3d": [
           {
            "colorbar": {
             "outlinewidth": 0,
             "ticks": ""
            },
            "type": "mesh3d"
           }
          ],
          "parcoords": [
           {
            "line": {
             "colorbar": {
              "outlinewidth": 0,
              "ticks": ""
             }
            },
            "type": "parcoords"
           }
          ],
          "pie": [
           {
            "automargin": true,
            "type": "pie"
           }
          ],
          "scatter": [
           {
            "fillpattern": {
             "fillmode": "overlay",
             "size": 10,
             "solidity": 0.2
            },
            "type": "scatter"
           }
          ],
          "scatter3d": [
           {
            "line": {
             "colorbar": {
              "outlinewidth": 0,
              "ticks": ""
             }
            },
            "marker": {
             "colorbar": {
              "outlinewidth": 0,
              "ticks": ""
             }
            },
            "type": "scatter3d"
           }
          ],
          "scattercarpet": [
           {
            "marker": {
             "colorbar": {
              "outlinewidth": 0,
              "ticks": ""
             }
            },
            "type": "scattercarpet"
           }
          ],
          "scattergeo": [
           {
            "marker": {
             "colorbar": {
              "outlinewidth": 0,
              "ticks": ""
             }
            },
            "type": "scattergeo"
           }
          ],
          "scattergl": [
           {
            "marker": {
             "colorbar": {
              "outlinewidth": 0,
              "ticks": ""
             }
            },
            "type": "scattergl"
           }
          ],
          "scattermap": [
           {
            "marker": {
             "colorbar": {
              "outlinewidth": 0,
              "ticks": ""
             }
            },
            "type": "scattermap"
           }
          ],
          "scattermapbox": [
           {
            "marker": {
             "colorbar": {
              "outlinewidth": 0,
              "ticks": ""
             }
            },
            "type": "scattermapbox"
           }
          ],
          "scatterpolar": [
           {
            "marker": {
             "colorbar": {
              "outlinewidth": 0,
              "ticks": ""
             }
            },
            "type": "scatterpolar"
           }
          ],
          "scatterpolargl": [
           {
            "marker": {
             "colorbar": {
              "outlinewidth": 0,
              "ticks": ""
             }
            },
            "type": "scatterpolargl"
           }
          ],
          "scatterternary": [
           {
            "marker": {
             "colorbar": {
              "outlinewidth": 0,
              "ticks": ""
             }
            },
            "type": "scatterternary"
           }
          ],
          "surface": [
           {
            "colorbar": {
             "outlinewidth": 0,
             "ticks": ""
            },
            "colorscale": [
             [
              0,
              "#0d0887"
             ],
             [
              0.1111111111111111,
              "#46039f"
             ],
             [
              0.2222222222222222,
              "#7201a8"
             ],
             [
              0.3333333333333333,
              "#9c179e"
             ],
             [
              0.4444444444444444,
              "#bd3786"
             ],
             [
              0.5555555555555556,
              "#d8576b"
             ],
             [
              0.6666666666666666,
              "#ed7953"
             ],
             [
              0.7777777777777778,
              "#fb9f3a"
             ],
             [
              0.8888888888888888,
              "#fdca26"
             ],
             [
              1,
              "#f0f921"
             ]
            ],
            "type": "surface"
           }
          ],
          "table": [
           {
            "cells": {
             "fill": {
              "color": "#EBF0F8"
             },
             "line": {
              "color": "white"
             }
            },
            "header": {
             "fill": {
              "color": "#C8D4E3"
             },
             "line": {
              "color": "white"
             }
            },
            "type": "table"
           }
          ]
         },
         "layout": {
          "annotationdefaults": {
           "arrowcolor": "#2a3f5f",
           "arrowhead": 0,
           "arrowwidth": 1
          },
          "autotypenumbers": "strict",
          "coloraxis": {
           "colorbar": {
            "outlinewidth": 0,
            "ticks": ""
           }
          },
          "colorscale": {
           "diverging": [
            [
             0,
             "#8e0152"
            ],
            [
             0.1,
             "#c51b7d"
            ],
            [
             0.2,
             "#de77ae"
            ],
            [
             0.3,
             "#f1b6da"
            ],
            [
             0.4,
             "#fde0ef"
            ],
            [
             0.5,
             "#f7f7f7"
            ],
            [
             0.6,
             "#e6f5d0"
            ],
            [
             0.7,
             "#b8e186"
            ],
            [
             0.8,
             "#7fbc41"
            ],
            [
             0.9,
             "#4d9221"
            ],
            [
             1,
             "#276419"
            ]
           ],
           "sequential": [
            [
             0,
             "#0d0887"
            ],
            [
             0.1111111111111111,
             "#46039f"
            ],
            [
             0.2222222222222222,
             "#7201a8"
            ],
            [
             0.3333333333333333,
             "#9c179e"
            ],
            [
             0.4444444444444444,
             "#bd3786"
            ],
            [
             0.5555555555555556,
             "#d8576b"
            ],
            [
             0.6666666666666666,
             "#ed7953"
            ],
            [
             0.7777777777777778,
             "#fb9f3a"
            ],
            [
             0.8888888888888888,
             "#fdca26"
            ],
            [
             1,
             "#f0f921"
            ]
           ],
           "sequentialminus": [
            [
             0,
             "#0d0887"
            ],
            [
             0.1111111111111111,
             "#46039f"
            ],
            [
             0.2222222222222222,
             "#7201a8"
            ],
            [
             0.3333333333333333,
             "#9c179e"
            ],
            [
             0.4444444444444444,
             "#bd3786"
            ],
            [
             0.5555555555555556,
             "#d8576b"
            ],
            [
             0.6666666666666666,
             "#ed7953"
            ],
            [
             0.7777777777777778,
             "#fb9f3a"
            ],
            [
             0.8888888888888888,
             "#fdca26"
            ],
            [
             1,
             "#f0f921"
            ]
           ]
          },
          "colorway": [
           "#636efa",
           "#EF553B",
           "#00cc96",
           "#ab63fa",
           "#FFA15A",
           "#19d3f3",
           "#FF6692",
           "#B6E880",
           "#FF97FF",
           "#FECB52"
          ],
          "font": {
           "color": "#2a3f5f"
          },
          "geo": {
           "bgcolor": "white",
           "lakecolor": "white",
           "landcolor": "#E5ECF6",
           "showlakes": true,
           "showland": true,
           "subunitcolor": "white"
          },
          "hoverlabel": {
           "align": "left"
          },
          "hovermode": "closest",
          "mapbox": {
           "style": "light"
          },
          "paper_bgcolor": "white",
          "plot_bgcolor": "#E5ECF6",
          "polar": {
           "angularaxis": {
            "gridcolor": "white",
            "linecolor": "white",
            "ticks": ""
           },
           "bgcolor": "#E5ECF6",
           "radialaxis": {
            "gridcolor": "white",
            "linecolor": "white",
            "ticks": ""
           }
          },
          "scene": {
           "xaxis": {
            "backgroundcolor": "#E5ECF6",
            "gridcolor": "white",
            "gridwidth": 2,
            "linecolor": "white",
            "showbackground": true,
            "ticks": "",
            "zerolinecolor": "white"
           },
           "yaxis": {
            "backgroundcolor": "#E5ECF6",
            "gridcolor": "white",
            "gridwidth": 2,
            "linecolor": "white",
            "showbackground": true,
            "ticks": "",
            "zerolinecolor": "white"
           },
           "zaxis": {
            "backgroundcolor": "#E5ECF6",
            "gridcolor": "white",
            "gridwidth": 2,
            "linecolor": "white",
            "showbackground": true,
            "ticks": "",
            "zerolinecolor": "white"
           }
          },
          "shapedefaults": {
           "line": {
            "color": "#2a3f5f"
           }
          },
          "ternary": {
           "aaxis": {
            "gridcolor": "white",
            "linecolor": "white",
            "ticks": ""
           },
           "baxis": {
            "gridcolor": "white",
            "linecolor": "white",
            "ticks": ""
           },
           "bgcolor": "#E5ECF6",
           "caxis": {
            "gridcolor": "white",
            "linecolor": "white",
            "ticks": ""
           }
          },
          "title": {
           "x": 0.05
          },
          "xaxis": {
           "automargin": true,
           "gridcolor": "white",
           "linecolor": "white",
           "ticks": "",
           "title": {
            "standoff": 15
           },
           "zerolinecolor": "white",
           "zerolinewidth": 2
          },
          "yaxis": {
           "automargin": true,
           "gridcolor": "white",
           "linecolor": "white",
           "ticks": "",
           "title": {
            "standoff": 15
           },
           "zerolinecolor": "white",
           "zerolinewidth": 2
          }
         }
        },
        "title": {
         "text": "Logistic Regression Coefficients"
        },
        "xaxis": {
         "anchor": "y",
         "domain": [
          0,
          1
         ],
         "title": {
          "text": "Feature"
         }
        },
        "yaxis": {
         "anchor": "x",
         "domain": [
          0,
          1
         ],
         "title": {
          "text": "Coefficient"
         }
        }
       }
      }
     },
     "metadata": {},
     "output_type": "display_data"
    }
   ],
   "source": [
    "# Logistic Regression\n",
    "lr = LogisticRegression()\n",
    "lr.fit(X_scaled, y)\n",
    "print(\"\\nLogistic Regression Coefficients:\")\n",
    "for feature, coef in zip(X.columns, lr.coef_[0]):\n",
    "    print(f\"{feature}: {coef:.4f}\")\n",
    "df_lr = pd.DataFrame({\n",
    "    'Feature': X.columns,\n",
    "    'Coefficient': lr.coef_[0]\n",
    "})\n",
    "fig = px.bar(df_lr, x='Feature', y='Coefficient', title='Logistic Regression Coefficients', color='Coefficient')\n",
    "fig.show()"
   ]
  },
  {
   "cell_type": "markdown",
   "id": "a6155402",
   "metadata": {},
   "source": [
    "<b>Logistic Regression</b> works by outputting probability based on the feature, based on our plot above we can see that Walc_mat, studytime_mat, higher_mat, and romantic_mat has positive coefficients, which means that an increase in these features would have a positive increase in the probability of a student passing. Some features have a surprising value, specifically walc_mat and schoolsup_mat. A positive Walc_mat coefficiant could suggest that there is a coincidence in the data, a student already passing would celebrate by drinking on the weekend etc. While a negative schoolsup_mat coefficient could suggest that those who needs/applied for school support are already struggling to begin with, which would reflect in the dataset.  "
   ]
  },
  {
   "cell_type": "code",
   "execution_count": 35,
   "id": "099befee",
   "metadata": {},
   "outputs": [
    {
     "name": "stdout",
     "output_type": "stream",
     "text": [
      "Random Forest Feature Importances:\n",
      "Dalc_mat: 0.0579\n",
      "Walc_mat: 0.0979\n",
      "absences_mat: 0.1879\n",
      "studytime_mat: 0.0947\n",
      "goout_mat: 0.1229\n",
      "higher_mat: 0.0337\n",
      "famsup_mat: 0.0450\n",
      "romantic_mat: 0.0499\n",
      "failures_mat: 0.1725\n",
      "famrel_mat: 0.0948\n",
      "schoolsup_mat: 0.0428\n"
     ]
    },
    {
     "data": {
      "application/vnd.plotly.v1+json": {
       "config": {
        "plotlyServerURL": "https://plot.ly"
       },
       "data": [
        {
         "hovertemplate": "Feature=%{x}<br>Importance=%{y}<extra></extra>",
         "legendgroup": "",
         "marker": {
          "color": "#636efa",
          "pattern": {
           "shape": ""
          }
         },
         "name": "",
         "orientation": "v",
         "showlegend": false,
         "textposition": "auto",
         "type": "bar",
         "x": [
          "Dalc_mat",
          "Walc_mat",
          "absences_mat",
          "studytime_mat",
          "goout_mat",
          "higher_mat",
          "famsup_mat",
          "romantic_mat",
          "failures_mat",
          "famrel_mat",
          "schoolsup_mat"
         ],
         "xaxis": "x",
         "y": {
          "bdata": "+ZpHHkekrT/Cx8QrMRK5P5ilYXuFDMg/w8S3eZ48uD94yjZONXO/PyJ7SJkvRKE/Pn0BJ84Ppz8rabPuXYepP9UQTb5QFMY/0WDh5WNFuD8tutaYMu6lPw==",
          "dtype": "f8"
         },
         "yaxis": "y"
        }
       ],
       "layout": {
        "barmode": "relative",
        "legend": {
         "tracegroupgap": 0
        },
        "template": {
         "data": {
          "bar": [
           {
            "error_x": {
             "color": "#2a3f5f"
            },
            "error_y": {
             "color": "#2a3f5f"
            },
            "marker": {
             "line": {
              "color": "#E5ECF6",
              "width": 0.5
             },
             "pattern": {
              "fillmode": "overlay",
              "size": 10,
              "solidity": 0.2
             }
            },
            "type": "bar"
           }
          ],
          "barpolar": [
           {
            "marker": {
             "line": {
              "color": "#E5ECF6",
              "width": 0.5
             },
             "pattern": {
              "fillmode": "overlay",
              "size": 10,
              "solidity": 0.2
             }
            },
            "type": "barpolar"
           }
          ],
          "carpet": [
           {
            "aaxis": {
             "endlinecolor": "#2a3f5f",
             "gridcolor": "white",
             "linecolor": "white",
             "minorgridcolor": "white",
             "startlinecolor": "#2a3f5f"
            },
            "baxis": {
             "endlinecolor": "#2a3f5f",
             "gridcolor": "white",
             "linecolor": "white",
             "minorgridcolor": "white",
             "startlinecolor": "#2a3f5f"
            },
            "type": "carpet"
           }
          ],
          "choropleth": [
           {
            "colorbar": {
             "outlinewidth": 0,
             "ticks": ""
            },
            "type": "choropleth"
           }
          ],
          "contour": [
           {
            "colorbar": {
             "outlinewidth": 0,
             "ticks": ""
            },
            "colorscale": [
             [
              0,
              "#0d0887"
             ],
             [
              0.1111111111111111,
              "#46039f"
             ],
             [
              0.2222222222222222,
              "#7201a8"
             ],
             [
              0.3333333333333333,
              "#9c179e"
             ],
             [
              0.4444444444444444,
              "#bd3786"
             ],
             [
              0.5555555555555556,
              "#d8576b"
             ],
             [
              0.6666666666666666,
              "#ed7953"
             ],
             [
              0.7777777777777778,
              "#fb9f3a"
             ],
             [
              0.8888888888888888,
              "#fdca26"
             ],
             [
              1,
              "#f0f921"
             ]
            ],
            "type": "contour"
           }
          ],
          "contourcarpet": [
           {
            "colorbar": {
             "outlinewidth": 0,
             "ticks": ""
            },
            "type": "contourcarpet"
           }
          ],
          "heatmap": [
           {
            "colorbar": {
             "outlinewidth": 0,
             "ticks": ""
            },
            "colorscale": [
             [
              0,
              "#0d0887"
             ],
             [
              0.1111111111111111,
              "#46039f"
             ],
             [
              0.2222222222222222,
              "#7201a8"
             ],
             [
              0.3333333333333333,
              "#9c179e"
             ],
             [
              0.4444444444444444,
              "#bd3786"
             ],
             [
              0.5555555555555556,
              "#d8576b"
             ],
             [
              0.6666666666666666,
              "#ed7953"
             ],
             [
              0.7777777777777778,
              "#fb9f3a"
             ],
             [
              0.8888888888888888,
              "#fdca26"
             ],
             [
              1,
              "#f0f921"
             ]
            ],
            "type": "heatmap"
           }
          ],
          "histogram": [
           {
            "marker": {
             "pattern": {
              "fillmode": "overlay",
              "size": 10,
              "solidity": 0.2
             }
            },
            "type": "histogram"
           }
          ],
          "histogram2d": [
           {
            "colorbar": {
             "outlinewidth": 0,
             "ticks": ""
            },
            "colorscale": [
             [
              0,
              "#0d0887"
             ],
             [
              0.1111111111111111,
              "#46039f"
             ],
             [
              0.2222222222222222,
              "#7201a8"
             ],
             [
              0.3333333333333333,
              "#9c179e"
             ],
             [
              0.4444444444444444,
              "#bd3786"
             ],
             [
              0.5555555555555556,
              "#d8576b"
             ],
             [
              0.6666666666666666,
              "#ed7953"
             ],
             [
              0.7777777777777778,
              "#fb9f3a"
             ],
             [
              0.8888888888888888,
              "#fdca26"
             ],
             [
              1,
              "#f0f921"
             ]
            ],
            "type": "histogram2d"
           }
          ],
          "histogram2dcontour": [
           {
            "colorbar": {
             "outlinewidth": 0,
             "ticks": ""
            },
            "colorscale": [
             [
              0,
              "#0d0887"
             ],
             [
              0.1111111111111111,
              "#46039f"
             ],
             [
              0.2222222222222222,
              "#7201a8"
             ],
             [
              0.3333333333333333,
              "#9c179e"
             ],
             [
              0.4444444444444444,
              "#bd3786"
             ],
             [
              0.5555555555555556,
              "#d8576b"
             ],
             [
              0.6666666666666666,
              "#ed7953"
             ],
             [
              0.7777777777777778,
              "#fb9f3a"
             ],
             [
              0.8888888888888888,
              "#fdca26"
             ],
             [
              1,
              "#f0f921"
             ]
            ],
            "type": "histogram2dcontour"
           }
          ],
          "mesh3d": [
           {
            "colorbar": {
             "outlinewidth": 0,
             "ticks": ""
            },
            "type": "mesh3d"
           }
          ],
          "parcoords": [
           {
            "line": {
             "colorbar": {
              "outlinewidth": 0,
              "ticks": ""
             }
            },
            "type": "parcoords"
           }
          ],
          "pie": [
           {
            "automargin": true,
            "type": "pie"
           }
          ],
          "scatter": [
           {
            "fillpattern": {
             "fillmode": "overlay",
             "size": 10,
             "solidity": 0.2
            },
            "type": "scatter"
           }
          ],
          "scatter3d": [
           {
            "line": {
             "colorbar": {
              "outlinewidth": 0,
              "ticks": ""
             }
            },
            "marker": {
             "colorbar": {
              "outlinewidth": 0,
              "ticks": ""
             }
            },
            "type": "scatter3d"
           }
          ],
          "scattercarpet": [
           {
            "marker": {
             "colorbar": {
              "outlinewidth": 0,
              "ticks": ""
             }
            },
            "type": "scattercarpet"
           }
          ],
          "scattergeo": [
           {
            "marker": {
             "colorbar": {
              "outlinewidth": 0,
              "ticks": ""
             }
            },
            "type": "scattergeo"
           }
          ],
          "scattergl": [
           {
            "marker": {
             "colorbar": {
              "outlinewidth": 0,
              "ticks": ""
             }
            },
            "type": "scattergl"
           }
          ],
          "scattermap": [
           {
            "marker": {
             "colorbar": {
              "outlinewidth": 0,
              "ticks": ""
             }
            },
            "type": "scattermap"
           }
          ],
          "scattermapbox": [
           {
            "marker": {
             "colorbar": {
              "outlinewidth": 0,
              "ticks": ""
             }
            },
            "type": "scattermapbox"
           }
          ],
          "scatterpolar": [
           {
            "marker": {
             "colorbar": {
              "outlinewidth": 0,
              "ticks": ""
             }
            },
            "type": "scatterpolar"
           }
          ],
          "scatterpolargl": [
           {
            "marker": {
             "colorbar": {
              "outlinewidth": 0,
              "ticks": ""
             }
            },
            "type": "scatterpolargl"
           }
          ],
          "scatterternary": [
           {
            "marker": {
             "colorbar": {
              "outlinewidth": 0,
              "ticks": ""
             }
            },
            "type": "scatterternary"
           }
          ],
          "surface": [
           {
            "colorbar": {
             "outlinewidth": 0,
             "ticks": ""
            },
            "colorscale": [
             [
              0,
              "#0d0887"
             ],
             [
              0.1111111111111111,
              "#46039f"
             ],
             [
              0.2222222222222222,
              "#7201a8"
             ],
             [
              0.3333333333333333,
              "#9c179e"
             ],
             [
              0.4444444444444444,
              "#bd3786"
             ],
             [
              0.5555555555555556,
              "#d8576b"
             ],
             [
              0.6666666666666666,
              "#ed7953"
             ],
             [
              0.7777777777777778,
              "#fb9f3a"
             ],
             [
              0.8888888888888888,
              "#fdca26"
             ],
             [
              1,
              "#f0f921"
             ]
            ],
            "type": "surface"
           }
          ],
          "table": [
           {
            "cells": {
             "fill": {
              "color": "#EBF0F8"
             },
             "line": {
              "color": "white"
             }
            },
            "header": {
             "fill": {
              "color": "#C8D4E3"
             },
             "line": {
              "color": "white"
             }
            },
            "type": "table"
           }
          ]
         },
         "layout": {
          "annotationdefaults": {
           "arrowcolor": "#2a3f5f",
           "arrowhead": 0,
           "arrowwidth": 1
          },
          "autotypenumbers": "strict",
          "coloraxis": {
           "colorbar": {
            "outlinewidth": 0,
            "ticks": ""
           }
          },
          "colorscale": {
           "diverging": [
            [
             0,
             "#8e0152"
            ],
            [
             0.1,
             "#c51b7d"
            ],
            [
             0.2,
             "#de77ae"
            ],
            [
             0.3,
             "#f1b6da"
            ],
            [
             0.4,
             "#fde0ef"
            ],
            [
             0.5,
             "#f7f7f7"
            ],
            [
             0.6,
             "#e6f5d0"
            ],
            [
             0.7,
             "#b8e186"
            ],
            [
             0.8,
             "#7fbc41"
            ],
            [
             0.9,
             "#4d9221"
            ],
            [
             1,
             "#276419"
            ]
           ],
           "sequential": [
            [
             0,
             "#0d0887"
            ],
            [
             0.1111111111111111,
             "#46039f"
            ],
            [
             0.2222222222222222,
             "#7201a8"
            ],
            [
             0.3333333333333333,
             "#9c179e"
            ],
            [
             0.4444444444444444,
             "#bd3786"
            ],
            [
             0.5555555555555556,
             "#d8576b"
            ],
            [
             0.6666666666666666,
             "#ed7953"
            ],
            [
             0.7777777777777778,
             "#fb9f3a"
            ],
            [
             0.8888888888888888,
             "#fdca26"
            ],
            [
             1,
             "#f0f921"
            ]
           ],
           "sequentialminus": [
            [
             0,
             "#0d0887"
            ],
            [
             0.1111111111111111,
             "#46039f"
            ],
            [
             0.2222222222222222,
             "#7201a8"
            ],
            [
             0.3333333333333333,
             "#9c179e"
            ],
            [
             0.4444444444444444,
             "#bd3786"
            ],
            [
             0.5555555555555556,
             "#d8576b"
            ],
            [
             0.6666666666666666,
             "#ed7953"
            ],
            [
             0.7777777777777778,
             "#fb9f3a"
            ],
            [
             0.8888888888888888,
             "#fdca26"
            ],
            [
             1,
             "#f0f921"
            ]
           ]
          },
          "colorway": [
           "#636efa",
           "#EF553B",
           "#00cc96",
           "#ab63fa",
           "#FFA15A",
           "#19d3f3",
           "#FF6692",
           "#B6E880",
           "#FF97FF",
           "#FECB52"
          ],
          "font": {
           "color": "#2a3f5f"
          },
          "geo": {
           "bgcolor": "white",
           "lakecolor": "white",
           "landcolor": "#E5ECF6",
           "showlakes": true,
           "showland": true,
           "subunitcolor": "white"
          },
          "hoverlabel": {
           "align": "left"
          },
          "hovermode": "closest",
          "mapbox": {
           "style": "light"
          },
          "paper_bgcolor": "white",
          "plot_bgcolor": "#E5ECF6",
          "polar": {
           "angularaxis": {
            "gridcolor": "white",
            "linecolor": "white",
            "ticks": ""
           },
           "bgcolor": "#E5ECF6",
           "radialaxis": {
            "gridcolor": "white",
            "linecolor": "white",
            "ticks": ""
           }
          },
          "scene": {
           "xaxis": {
            "backgroundcolor": "#E5ECF6",
            "gridcolor": "white",
            "gridwidth": 2,
            "linecolor": "white",
            "showbackground": true,
            "ticks": "",
            "zerolinecolor": "white"
           },
           "yaxis": {
            "backgroundcolor": "#E5ECF6",
            "gridcolor": "white",
            "gridwidth": 2,
            "linecolor": "white",
            "showbackground": true,
            "ticks": "",
            "zerolinecolor": "white"
           },
           "zaxis": {
            "backgroundcolor": "#E5ECF6",
            "gridcolor": "white",
            "gridwidth": 2,
            "linecolor": "white",
            "showbackground": true,
            "ticks": "",
            "zerolinecolor": "white"
           }
          },
          "shapedefaults": {
           "line": {
            "color": "#2a3f5f"
           }
          },
          "ternary": {
           "aaxis": {
            "gridcolor": "white",
            "linecolor": "white",
            "ticks": ""
           },
           "baxis": {
            "gridcolor": "white",
            "linecolor": "white",
            "ticks": ""
           },
           "bgcolor": "#E5ECF6",
           "caxis": {
            "gridcolor": "white",
            "linecolor": "white",
            "ticks": ""
           }
          },
          "title": {
           "x": 0.05
          },
          "xaxis": {
           "automargin": true,
           "gridcolor": "white",
           "linecolor": "white",
           "ticks": "",
           "title": {
            "standoff": 15
           },
           "zerolinecolor": "white",
           "zerolinewidth": 2
          },
          "yaxis": {
           "automargin": true,
           "gridcolor": "white",
           "linecolor": "white",
           "ticks": "",
           "title": {
            "standoff": 15
           },
           "zerolinecolor": "white",
           "zerolinewidth": 2
          }
         }
        },
        "title": {
         "text": "Random Forest Feature Importance"
        },
        "xaxis": {
         "anchor": "y",
         "domain": [
          0,
          1
         ],
         "title": {
          "text": "Feature"
         }
        },
        "yaxis": {
         "anchor": "x",
         "domain": [
          0,
          1
         ],
         "title": {
          "text": "Importance"
         }
        }
       }
      }
     },
     "metadata": {},
     "output_type": "display_data"
    }
   ],
   "source": [
    "# Random Forest\n",
    "rf = RandomForestClassifier(random_state=42)\n",
    "rf.fit(X_scaled, y)\n",
    "importances_rf = rf.feature_importances_\n",
    "print(\"Random Forest Feature Importances:\")\n",
    "for feature, importance in zip(X.columns, importances_rf):\n",
    "    print(f\"{feature}: {importance:.4f}\")\n",
    "\n",
    "df_rf = pd.DataFrame({\n",
    "    'Feature': X.columns, \n",
    "    'Importance': importances_rf\n",
    "})\n",
    "fig = px.bar(df_rf, x='Feature', y='Importance', title='Random Forest Feature Importance')\n",
    "fig.show()"
   ]
  },
  {
   "cell_type": "markdown",
   "id": "c257f446",
   "metadata": {},
   "source": [
    "<b>Random Forest</b> works best at discovering patterns that arent obvious at a glance. This can be seen in how it places importance on the features. absences_mat, failures_mat, and goout_mat are the top 3 features which means that if their value is high it would have a higher impact on the probability (since the features are negative itll lead to a worse probability). An interesting behavior here is that while in Logistic Regression, higher_mat was placed high. In Random Forest its place as the least important. This could be due to the fact that the pattern connected to it has already been discovered through a different feature, meaning it becomes redundant. While famrel_mat is placed somewhat high in the importance list, due to the fact that there is a hidden pattern that makes famrel_mat affect the probaility of getting a good academic performance."
   ]
  },
  {
   "cell_type": "code",
   "execution_count": 36,
   "id": "90ee0ef5",
   "metadata": {},
   "outputs": [
    {
     "data": {
      "text/html": [
       "\n",
       "    <style>\n",
       "    table.eli5-weights tr:hover {\n",
       "        filter: brightness(85%);\n",
       "    }\n",
       "</style>\n",
       "\n",
       "\n",
       "\n",
       "    \n",
       "\n",
       "    \n",
       "\n",
       "    \n",
       "\n",
       "    \n",
       "\n",
       "    \n",
       "\n",
       "    \n",
       "\n",
       "\n",
       "    \n",
       "\n",
       "    \n",
       "\n",
       "    \n",
       "\n",
       "    \n",
       "\n",
       "    \n",
       "\n",
       "    \n",
       "\n",
       "\n",
       "    \n",
       "\n",
       "    \n",
       "\n",
       "    \n",
       "\n",
       "    \n",
       "\n",
       "    \n",
       "        <table class=\"eli5-weights eli5-feature-importances\" style=\"border-collapse: collapse; border: none; margin-top: 0em; table-layout: auto;\">\n",
       "    <thead>\n",
       "    <tr style=\"border: none;\">\n",
       "        <th style=\"padding: 0 1em 0 0.5em; text-align: right; border: none;\">Weight</th>\n",
       "        <th style=\"padding: 0 0.5em 0 0.5em; text-align: left; border: none;\">Feature</th>\n",
       "    </tr>\n",
       "    </thead>\n",
       "    <tbody>\n",
       "    \n",
       "        <tr style=\"background-color: hsl(120, 100.00%, 80.00%); border: none;\">\n",
       "            <td style=\"padding: 0 1em 0 0.5em; text-align: right; border: none;\">\n",
       "                0.1091\n",
       "                \n",
       "                    &plusmn; 0.0352\n",
       "                \n",
       "            </td>\n",
       "            <td style=\"padding: 0 0.5em 0 0.5em; text-align: left; border: none;\">\n",
       "                failures_mat\n",
       "            </td>\n",
       "        </tr>\n",
       "    \n",
       "        <tr style=\"background-color: hsl(120, 100.00%, 87.69%); border: none;\">\n",
       "            <td style=\"padding: 0 1em 0 0.5em; text-align: right; border: none;\">\n",
       "                0.0545\n",
       "                \n",
       "                    &plusmn; 0.0844\n",
       "                \n",
       "            </td>\n",
       "            <td style=\"padding: 0 0.5em 0 0.5em; text-align: left; border: none;\">\n",
       "                higher_mat\n",
       "            </td>\n",
       "        </tr>\n",
       "    \n",
       "        <tr style=\"background-color: hsl(120, 100.00%, 88.95%); border: none;\">\n",
       "            <td style=\"padding: 0 1em 0 0.5em; text-align: right; border: none;\">\n",
       "                0.0468\n",
       "                \n",
       "                    &plusmn; 0.0127\n",
       "                \n",
       "            </td>\n",
       "            <td style=\"padding: 0 0.5em 0 0.5em; text-align: left; border: none;\">\n",
       "                schoolsup_mat\n",
       "            </td>\n",
       "        </tr>\n",
       "    \n",
       "        <tr style=\"background-color: hsl(0, 100.00%, 100.00%); border: none;\">\n",
       "            <td style=\"padding: 0 1em 0 0.5em; text-align: right; border: none;\">\n",
       "                0\n",
       "                \n",
       "                    &plusmn; 0.0000\n",
       "                \n",
       "            </td>\n",
       "            <td style=\"padding: 0 0.5em 0 0.5em; text-align: left; border: none;\">\n",
       "                famrel_mat\n",
       "            </td>\n",
       "        </tr>\n",
       "    \n",
       "        <tr style=\"background-color: hsl(0, 100.00%, 100.00%); border: none;\">\n",
       "            <td style=\"padding: 0 1em 0 0.5em; text-align: right; border: none;\">\n",
       "                0\n",
       "                \n",
       "                    &plusmn; 0.0000\n",
       "                \n",
       "            </td>\n",
       "            <td style=\"padding: 0 0.5em 0 0.5em; text-align: left; border: none;\">\n",
       "                romantic_mat\n",
       "            </td>\n",
       "        </tr>\n",
       "    \n",
       "        <tr style=\"background-color: hsl(0, 100.00%, 100.00%); border: none;\">\n",
       "            <td style=\"padding: 0 1em 0 0.5em; text-align: right; border: none;\">\n",
       "                0\n",
       "                \n",
       "                    &plusmn; 0.0000\n",
       "                \n",
       "            </td>\n",
       "            <td style=\"padding: 0 0.5em 0 0.5em; text-align: left; border: none;\">\n",
       "                famsup_mat\n",
       "            </td>\n",
       "        </tr>\n",
       "    \n",
       "        <tr style=\"background-color: hsl(0, 100.00%, 100.00%); border: none;\">\n",
       "            <td style=\"padding: 0 1em 0 0.5em; text-align: right; border: none;\">\n",
       "                0\n",
       "                \n",
       "                    &plusmn; 0.0000\n",
       "                \n",
       "            </td>\n",
       "            <td style=\"padding: 0 0.5em 0 0.5em; text-align: left; border: none;\">\n",
       "                goout_mat\n",
       "            </td>\n",
       "        </tr>\n",
       "    \n",
       "        <tr style=\"background-color: hsl(0, 100.00%, 100.00%); border: none;\">\n",
       "            <td style=\"padding: 0 1em 0 0.5em; text-align: right; border: none;\">\n",
       "                0\n",
       "                \n",
       "                    &plusmn; 0.0000\n",
       "                \n",
       "            </td>\n",
       "            <td style=\"padding: 0 0.5em 0 0.5em; text-align: left; border: none;\">\n",
       "                studytime_mat\n",
       "            </td>\n",
       "        </tr>\n",
       "    \n",
       "        <tr style=\"background-color: hsl(0, 100.00%, 100.00%); border: none;\">\n",
       "            <td style=\"padding: 0 1em 0 0.5em; text-align: right; border: none;\">\n",
       "                0\n",
       "                \n",
       "                    &plusmn; 0.0000\n",
       "                \n",
       "            </td>\n",
       "            <td style=\"padding: 0 0.5em 0 0.5em; text-align: left; border: none;\">\n",
       "                absences_mat\n",
       "            </td>\n",
       "        </tr>\n",
       "    \n",
       "        <tr style=\"background-color: hsl(0, 100.00%, 100.00%); border: none;\">\n",
       "            <td style=\"padding: 0 1em 0 0.5em; text-align: right; border: none;\">\n",
       "                0\n",
       "                \n",
       "                    &plusmn; 0.0000\n",
       "                \n",
       "            </td>\n",
       "            <td style=\"padding: 0 0.5em 0 0.5em; text-align: left; border: none;\">\n",
       "                Walc_mat\n",
       "            </td>\n",
       "        </tr>\n",
       "    \n",
       "        <tr style=\"background-color: hsl(0, 100.00%, 100.00%); border: none;\">\n",
       "            <td style=\"padding: 0 1em 0 0.5em; text-align: right; border: none;\">\n",
       "                0\n",
       "                \n",
       "                    &plusmn; 0.0000\n",
       "                \n",
       "            </td>\n",
       "            <td style=\"padding: 0 0.5em 0 0.5em; text-align: left; border: none;\">\n",
       "                Dalc_mat\n",
       "            </td>\n",
       "        </tr>\n",
       "    \n",
       "    \n",
       "    </tbody>\n",
       "</table>\n",
       "    \n",
       "\n",
       "    \n",
       "\n",
       "\n",
       "    \n",
       "\n",
       "    \n",
       "\n",
       "    \n",
       "\n",
       "    \n",
       "\n",
       "    \n",
       "\n",
       "    \n",
       "\n",
       "\n",
       "\n"
      ],
      "text/plain": [
       "<IPython.core.display.HTML object>"
      ]
     },
     "execution_count": 36,
     "metadata": {},
     "output_type": "execute_result"
    }
   ],
   "source": [
    "import eli5\n",
    "from eli5.sklearn import PermutationImportance\n",
    "\n",
    "perm = PermutationImportance(svm_model, random_state=42).fit(X_test, y_test)\n",
    "\n",
    "eli5.show_weights(perm, feature_names=X.columns.tolist())"
   ]
  },
  {
   "cell_type": "markdown",
   "id": "7d8f6f99",
   "metadata": {},
   "source": [
    "<b>Support Vector Machine</b> works by finding the boundary between 2 classes, in this case pass and fail. Unlike the previous 2 algorithms, it does not have a coefficient or importance that we can output to see how it processes the features. so we decided to use permutation importance instead to determine which features impacts the prediction when the data of a single feature is shuffled and evaluated against the original prediction. In this case we can see that failures_mat have the highest loss in accuracy at 11% +- 3.52% when the feature is shuffled, followed by higher_mat and schoolsup_mat."
   ]
  },
  {
   "cell_type": "markdown",
   "id": "77621a54",
   "metadata": {},
   "source": [
    "<b> References </b> <br>\n",
    "<br>\n",
    "Communications Team. (2022, March 8). *10 Factors Affecting Academic Performance Among Higher Secondary School Students*. <br> \n",
    "Global Indian International School Abu Dhabi. https://globalindianschool.org/abudhabi/blog-details/factors-affecting-academic-performance <br>\n",
    "<br>\n",
    "GeeksforGeeks. (2025, July 23). Machine Learning Explainability using Permutation Importance. GeeksforGeeks. https://www.geeksforgeeks.org/machine-learning/machine-learning-explainability-using-permutation-importance/<br>\n",
    "<br>\n",
    "Hashemi-Pour, C., & Wigmore, I. (2024, July 29). *What are machine learning algorithms? 12 types explained*. <br> \n",
    "TechTarget. https://www.techtarget.com/whatis/definition/machine-learning-algorithm‌ <br>\n",
    "<br>\n",
    "IBM. (2021, September 22). *What is machine learning?*. IBM. https://www.ibm.com/think/topics/machine-learning <br>"
   ]
  }
 ],
 "metadata": {
  "kernelspec": {
   "display_name": "Python 3",
   "language": "python",
   "name": "python3"
  },
  "language_info": {
   "codemirror_mode": {
    "name": "ipython",
    "version": 3
   },
   "file_extension": ".py",
   "mimetype": "text/x-python",
   "name": "python",
   "nbconvert_exporter": "python",
   "pygments_lexer": "ipython3",
   "version": "3.13.1"
  }
 },
 "nbformat": 4,
 "nbformat_minor": 5
}
